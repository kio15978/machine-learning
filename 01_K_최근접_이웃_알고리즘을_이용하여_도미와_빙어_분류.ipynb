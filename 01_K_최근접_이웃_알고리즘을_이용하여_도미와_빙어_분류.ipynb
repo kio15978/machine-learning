{
  "nbformat": 4,
  "nbformat_minor": 0,
  "metadata": {
    "colab": {
      "name": "01. K-최근접 이웃 알고리즘을 이용하여 도미와 빙어 분류.ipynb",
      "provenance": [],
      "collapsed_sections": [],
      "authorship_tag": "ABX9TyOB2pYUJSfbLQfPtVn/M5sB",
      "include_colab_link": true
    },
    "kernelspec": {
      "name": "python3",
      "display_name": "Python 3"
    },
    "language_info": {
      "name": "python"
    }
  },
  "cells": [
    {
      "cell_type": "markdown",
      "metadata": {
        "id": "view-in-github",
        "colab_type": "text"
      },
      "source": [
        "<a href=\"https://colab.research.google.com/github/kio15978/machine-learning/blob/main/01_K_%EC%B5%9C%EA%B7%BC%EC%A0%91_%EC%9D%B4%EC%9B%83_%EC%95%8C%EA%B3%A0%EB%A6%AC%EC%A6%98%EC%9D%84_%EC%9D%B4%EC%9A%A9%ED%95%98%EC%97%AC_%EB%8F%84%EB%AF%B8%EC%99%80_%EB%B9%99%EC%96%B4_%EB%B6%84%EB%A5%98.ipynb\" target=\"_parent\"><img src=\"https://colab.research.google.com/assets/colab-badge.svg\" alt=\"Open In Colab\"/></a>"
      ]
    },
    {
      "cell_type": "markdown",
      "source": [
        "\n",
        "\n",
        "---\n",
        "\n"
      ],
      "metadata": {
        "id": "68fMUi29Ravk"
      }
    },
    {
      "cell_type": "markdown",
      "source": [
        "# **unit. 01 마켓과 머신러닝**\n"
      ],
      "metadata": {
        "id": "R9Us5429RdFa"
      }
    },
    {
      "cell_type": "markdown",
      "source": [
        "# **생선 분류 문제**"
      ],
      "metadata": {
        "id": "0kmRcS_cdd1Z"
      }
    },
    {
      "cell_type": "markdown",
      "source": [
        "특성 : 데이터의 특징\n",
        "\n",
        "ex) 길이, 무게"
      ],
      "metadata": {
        "id": "OCxRNNADdhba"
      }
    },
    {
      "cell_type": "markdown",
      "source": [
        "## **도미 데이터 준비**"
      ],
      "metadata": {
        "id": "lfoihPrWiZCQ"
      }
    },
    {
      "cell_type": "code",
      "execution_count": 2,
      "metadata": {
        "id": "0mDv2RpIJFIL"
      },
      "outputs": [],
      "source": [
        "bream_length = [25.4, 26.3, 26.5, 29.0, 29.0, 29.7, 29.7, 30.0, 30.0, 30.7, 31.0, 31.0,    #길이\n",
        "                31.5, 32.0, 32.0, 32.0, 33.0, 33.0, 33.5, 33.5, 34.0, 34.0, 34.5, 35.0, \n",
        "                35.0, 35.0, 35.0, 36.0, 36.0, 37.0, 38.5, 38.5, 39.5, 41.0, 41.0]\n",
        "bream_weight = [242.0, 290.0, 340.0, 363.0, 430.0, 450.0, 500.0, 390.0, 450.0, 500.0, 475.0, 500.0,    #무게\n",
        "                500.0, 340.0, 600.0, 600.0, 700.0, 700.0, 610.0, 650.0, 575.0, 685.0, 620.0, 680.0, \n",
        "                700.0, 725.0, 720.0, 714.0, 850.0, 1000.0, 920.0, 955.0, 925.0, 975.0, 950.0]"
      ]
    },
    {
      "cell_type": "code",
      "source": [
        "import matplotlib.pyplot as plt  # matplotlib의 pyplot 함수를 plt로 줄여서 임포트\n",
        "plt.scatter(bream_length,bream_weight)\n",
        "plt.xlabel('length')  # x축 = 길이\n",
        "plt.ylabel('weight')  # y축 = 무게\n",
        "plt.show()"
      ],
      "metadata": {
        "colab": {
          "base_uri": "https://localhost:8080/",
          "height": 279
        },
        "id": "VqiGKPZ5gSZd",
        "outputId": "4129af6e-e535-4f4d-f570-dceed3dfdc6e"
      },
      "execution_count": 4,
      "outputs": [
        {
          "output_type": "display_data",
          "data": {
            "text/plain": [
              "<Figure size 432x288 with 1 Axes>"
            ],
            "image/png": "[encoded data removed]"
          },
          "metadata": {
            "needs_background": "light"
          }
        }
      ]
    },
    {
      "cell_type": "markdown",
      "source": [
        "## **빙어 데이터 준비**"
      ],
      "metadata": {
        "id": "Tw0TSKKPicOf"
      }
    },
    {
      "cell_type": "code",
      "source": [
        "smelt_length = [9.8, 10.5, 10.6, 11.0, 11.2, 11.3, 11.8, 11.8, 12.0, 12.2, 12.4, 13.0, 14.3, 15.0]\n",
        "smelt_weight = [6.7, 7.5, 7.0, 9.7, 9.8, 8.7, 10.0, 9.9, 9.8, 12.2, 13.4, 12.2, 19.7, 19.9]"
      ],
      "metadata": {
        "id": "mWz6Gbt-gWe4"
      },
      "execution_count": 5,
      "outputs": []
    },
    {
      "cell_type": "markdown",
      "source": [
        "## **도미, 빙어 한 그래프로 그리기**\n",
        "\n",
        "*  2개의 산점도 한 그래프로 그리기 : scatter( )함수 연달아 사용"
      ],
      "metadata": {
        "id": "KcrLIniaiwll"
      }
    },
    {
      "cell_type": "code",
      "source": [
        "plt.scatter(bream_length, bream_weight)\n",
        "plt.scatter(smelt_length, smelt_weight)\n",
        "plt.xlabel('length')\n",
        "plt.ylabel('weght')\n",
        "plt.show()"
      ],
      "metadata": {
        "colab": {
          "base_uri": "https://localhost:8080/",
          "height": 279
        },
        "id": "HAzj03Zvig3a",
        "outputId": "64b22ccc-89e2-453d-e2b8-27a5803bb0b5"
      },
      "execution_count": 6,
      "outputs": [
        {
          "output_type": "display_data",
          "data": {
            "text/plain": [
              "<Figure size 432x288 with 1 Axes>"
            ],
            "image/png": "[encoded data removed]"
          },
          "metadata": {
            "needs_background": "light"
          }
        }
      ]
    },
    {
      "cell_type": "markdown",
      "source": [
        "주황색 : 빙어  / 파란색 : 도미"
      ],
      "metadata": {
        "id": "kJ-EK-0HjYPK"
      }
    },
    {
      "cell_type": "markdown",
      "source": [
        "# **k-최근접 이웃 **\n",
        "# **K-Nearest Neighbors**"
      ],
      "metadata": {
        "id": "OXfOqF41jcrI"
      }
    },
    {
      "cell_type": "markdown",
      "source": [
        "**도미와 빙어 데이터 하나로 합치기**"
      ],
      "metadata": {
        "id": "HKt38yRYj1Wt"
      }
    },
    {
      "cell_type": "code",
      "source": [
        "length = bream_length + smelt_length\n",
        "weight = bream_weight + smelt_weight"
      ],
      "metadata": {
        "id": "Hlv0OtRsjYGX"
      },
      "execution_count": 24,
      "outputs": []
    },
    {
      "cell_type": "markdown",
      "source": [
        "length = 도미 35개 길이 + 빙어 14개 길이 = 도미, 빙어 길이 총 39개\n",
        "\n",
        "weight = 도미 35개 무게 + 빙어 14개 무게 = 도미, 빙어 무게 총 39개\n"
      ],
      "metadata": {
        "id": "q38Hg0GtkZiz"
      }
    },
    {
      "cell_type": "markdown",
      "source": [
        "## **사이킷런 사용을 위해 각 특성의 리스트를 세로 방향으로 늘어뜨린 2차원 리스트 만들기**\n",
        "\n",
        "-> zip함수와 리스트 내포 구문 사용\n",
        "\n",
        "* zip( ) : 두 그룹의 데이터를 서로 엮어줌\n",
        "\n",
        "나열된 리스트 각각에서 하나씩 원소를 꺼내 반환\n",
        "\n",
        "* for( ) 동일한 작업을 계속 반복"
      ],
      "metadata": {
        "id": "bD7WY7wMmX_o"
      }
    },
    {
      "cell_type": "code",
      "source": [
        "fish_data = [[l,w] for l,w in zip(length, weight)]"
      ],
      "metadata": {
        "id": "sbc5W1qajKyA"
      },
      "execution_count": 25,
      "outputs": []
    },
    {
      "cell_type": "markdown",
      "source": [
        "for문 zip( )함수로 length와 weight 리스트에서 원소를 하나씩 꺼내 l과 w에 할당\n",
        "\n",
        "그러면 [ l, w]가 하나의 원소로 구성된 리스트로 만들어짐"
      ],
      "metadata": {
        "id": "bGsYqSvAmb-D"
      }
    },
    {
      "cell_type": "markdown",
      "source": [
        "## **정답 부여**\n",
        "\n",
        "\n",
        "곱셈 연산자를 사용 파이썬 리스트 반복\n",
        "\n",
        "찾으려는 대상 : 1\n",
        "\n",
        "그 외 : 0\n",
        "\n"
      ],
      "metadata": {
        "id": "-JNMZIEYnVZt"
      }
    },
    {
      "cell_type": "code",
      "source": [
        "fish_target = [1]*35 + [0]*14"
      ],
      "metadata": {
        "id": "KmhxW1dfmbrz"
      },
      "execution_count": 26,
      "outputs": []
    },
    {
      "cell_type": "markdown",
      "source": [
        "## **KNeighborsClassifier 임포트**\n",
        "\n",
        "* KNeighborsClassifier : 사이킷런 패키지의 K-최근접 이웃 알고리즘 구현 클래스\n",
        "\n",
        "* 패키지나 모듈 전체를 임포트하지 않고 특정 클래스만 임포트하려면 from ~ import구문 사용"
      ],
      "metadata": {
        "id": "sto5XBurolca"
      }
    },
    {
      "cell_type": "code",
      "source": [
        "from sklearn.neighbors import KNeighborsClassifier"
      ],
      "metadata": {
        "id": "HT7E-gNEmc7f"
      },
      "execution_count": 27,
      "outputs": []
    },
    {
      "cell_type": "markdown",
      "source": [
        "## **임포트한 클래스의 객체 생성**"
      ],
      "metadata": {
        "id": "1JTEUg62pLYv"
      }
    },
    {
      "cell_type": "code",
      "source": [
        "kn = KNeighborsClassifier()"
      ],
      "metadata": {
        "id": "yNwHv9F7pLJK"
      },
      "execution_count": 28,
      "outputs": []
    },
    {
      "cell_type": "markdown",
      "source": [
        "## **훈련**\n",
        "\n",
        "모델에 데이터를 전달하여 규칙을 학습하는 과정\n",
        "\n",
        "* fit( ) : 주어진 데이터로 알고리즘 훈련"
      ],
      "metadata": {
        "id": "n08k4UJ9qwy_"
      }
    },
    {
      "cell_type": "code",
      "source": [
        "kn.fit(fish_data,fish_target)"
      ],
      "metadata": {
        "colab": {
          "base_uri": "https://localhost:8080/"
        },
        "id": "rPSPibC0kbSp",
        "outputId": "6b119a18-a5ef-4397-fc08-b4ccafba8b6c"
      },
      "execution_count": 30,
      "outputs": [
        {
          "output_type": "execute_result",
          "data": {
            "text/plain": [
              "KNeighborsClassifier()"
            ]
          },
          "metadata": {},
          "execution_count": 30
        }
      ]
    },
    {
      "cell_type": "markdown",
      "source": [
        "## **평가**\n",
        "\n",
        "* score( ) : 모델을 평가, 0~1 사이 값 반환"
      ],
      "metadata": {
        "id": "-p9Kp7FnsoEw"
      }
    },
    {
      "cell_type": "code",
      "source": [
        "kn.score(fish_data, fish_target)"
      ],
      "metadata": {
        "colab": {
          "base_uri": "https://localhost:8080/"
        },
        "id": "fj_0-QPuq3KI",
        "outputId": "e9da57b0-5cf8-496a-a37e-7970d108d28b"
      },
      "execution_count": 31,
      "outputs": [
        {
          "output_type": "execute_result",
          "data": {
            "text/plain": [
              "1.0"
            ]
          },
          "metadata": {},
          "execution_count": 31
        }
      ]
    },
    {
      "cell_type": "markdown",
      "source": [
        "## **예측**\n",
        "\n",
        "* predict( ) : 새로운 데이터의 정답 예측\n",
        "\n",
        "리스트의 리스트를 전달해야 함 -> 예측 값을 리스트로 2번 감싸자  -> .predict[ [예측값] ]"
      ],
      "metadata": {
        "id": "FAMnpqKlu0UT"
      }
    },
    {
      "cell_type": "code",
      "source": [
        "kn.predict([[30,600]])"
      ],
      "metadata": {
        "colab": {
          "base_uri": "https://localhost:8080/"
        },
        "id": "XfV2DZKmsmGf",
        "outputId": "baa12c25-b185-405f-defe-0e27a8e20157"
      },
      "execution_count": 33,
      "outputs": [
        {
          "output_type": "execute_result",
          "data": {
            "text/plain": [
              "array([1])"
            ]
          },
          "metadata": {},
          "execution_count": 33
        }
      ]
    },
    {
      "cell_type": "markdown",
      "source": [
        "## **_fit_X 속성에 전달한 fish_data 가짐**\n",
        "\n"
      ],
      "metadata": {
        "id": "xnNXRvfiwJjM"
      }
    },
    {
      "cell_type": "code",
      "source": [
        "print(kn._fit_X)"
      ],
      "metadata": {
        "colab": {
          "base_uri": "https://localhost:8080/"
        },
        "id": "1Alp-khDu6Aq",
        "outputId": "9b49dc06-364a-41b1-ae46-4d04587e8154"
      },
      "execution_count": 34,
      "outputs": [
        {
          "output_type": "stream",
          "name": "stdout",
          "text": [
            "[[  25.4  242. ]\n",
            " [  26.3  290. ]\n",
            " [  26.5  340. ]\n",
            " [  29.   363. ]\n",
            " [  29.   430. ]\n",
            " [  29.7  450. ]\n",
            " [  29.7  500. ]\n",
            " [  30.   390. ]\n",
            " [  30.   450. ]\n",
            " [  30.7  500. ]\n",
            " [  31.   475. ]\n",
            " [  31.   500. ]\n",
            " [  31.5  500. ]\n",
            " [  32.   340. ]\n",
            " [  32.   600. ]\n",
            " [  32.   600. ]\n",
            " [  33.   700. ]\n",
            " [  33.   700. ]\n",
            " [  33.5  610. ]\n",
            " [  33.5  650. ]\n",
            " [  34.   575. ]\n",
            " [  34.   685. ]\n",
            " [  34.5  620. ]\n",
            " [  35.   680. ]\n",
            " [  35.   700. ]\n",
            " [  35.   725. ]\n",
            " [  35.   720. ]\n",
            " [  36.   714. ]\n",
            " [  36.   850. ]\n",
            " [  37.  1000. ]\n",
            " [  38.5  920. ]\n",
            " [  38.5  955. ]\n",
            " [  39.5  925. ]\n",
            " [  41.   975. ]\n",
            " [  41.   950. ]\n",
            " [   9.8    6.7]\n",
            " [  10.5    7.5]\n",
            " [  10.6    7. ]\n",
            " [  11.     9.7]\n",
            " [  11.2    9.8]\n",
            " [  11.3    8.7]\n",
            " [  11.8   10. ]\n",
            " [  11.8    9.9]\n",
            " [  12.     9.8]\n",
            " [  12.2   12.2]\n",
            " [  12.4   13.4]\n",
            " [  13.    12.2]\n",
            " [  14.3   19.7]\n",
            " [  15.    19.9]]\n"
          ]
        }
      ]
    },
    {
      "cell_type": "markdown",
      "source": [
        "## **_y 속성에 fish_target 가짐**"
      ],
      "metadata": {
        "id": "eVa9n0EdwOfW"
      }
    },
    {
      "cell_type": "code",
      "source": [
        "print(kn._y)"
      ],
      "metadata": {
        "colab": {
          "base_uri": "https://localhost:8080/"
        },
        "id": "NxsUtRg1wNSg",
        "outputId": "4961a2ec-6555-40f9-ba01-c8ca76b995b2"
      },
      "execution_count": 35,
      "outputs": [
        {
          "output_type": "stream",
          "name": "stdout",
          "text": [
            "[1 1 1 1 1 1 1 1 1 1 1 1 1 1 1 1 1 1 1 1 1 1 1 1 1 1 1 1 1 1 1 1 1 1 1 0 0\n",
            " 0 0 0 0 0 0 0 0 0 0 0 0]\n"
          ]
        }
      ]
    },
    {
      "cell_type": "markdown",
      "source": [
        "K-최근접 이웃 알고리즘은 무언가 훈련되는 게 없는 셈\n",
        "\n",
        "fit( ) 메서드에 전달한 데이터를 모두 저장하고 있다가 새로운 데이터가 등장하면 가장 가까운 데이터를 참고하여 구분"
      ],
      "metadata": {
        "id": "giXuquuayiOM"
      }
    },
    {
      "cell_type": "markdown",
      "source": [
        "KNeighborsClassifier 클래스의 기본값 = 5\n",
        "\n",
        "기준은 n_neighbors 매개변수로 변경 가능"
      ],
      "metadata": {
        "id": "e4R5kZD2yjig"
      }
    },
    {
      "cell_type": "markdown",
      "source": [
        "## **참고 데이터를 49개로 한 모델**"
      ],
      "metadata": {
        "id": "_kWk4Z5DzZE4"
      }
    },
    {
      "cell_type": "code",
      "source": [
        "kn49 = KNeighborsClassifier(n_neighbors=49)"
      ],
      "metadata": {
        "id": "lRLEjkQeyiFn"
      },
      "execution_count": 36,
      "outputs": []
    },
    {
      "cell_type": "code",
      "source": [
        "kn49.fit(fish_data, fish_target)\n",
        "kn49.score(fish_data, fish_target)"
      ],
      "metadata": {
        "colab": {
          "base_uri": "https://localhost:8080/"
        },
        "id": "hDaPO7I2wVr4",
        "outputId": "b555cfee-13be-4176-9b0a-a17aa6b716bd"
      },
      "execution_count": 37,
      "outputs": [
        {
          "output_type": "execute_result",
          "data": {
            "text/plain": [
              "0.7142857142857143"
            ]
          },
          "metadata": {},
          "execution_count": 37
        }
      ]
    },
    {
      "cell_type": "markdown",
      "source": [
        "가장 가까운 49개 데이터 사용하는 k-최근접 이웃 모델에 fish_data를 적용하면 fish_data에 있는 모든 생선을 사용하여 예측하게 됨 => fish_data의 49개 중 35개가 도미, 14개가 빙어로, 도미가 다수를 차지함 => 어떤 데이터를 넣어도 무조건 도미로 예측"
      ],
      "metadata": {
        "id": "Af7nq56g0EV1"
      }
    },
    {
      "cell_type": "code",
      "source": [
        "print(35/49)"
      ],
      "metadata": {
        "colab": {
          "base_uri": "https://localhost:8080/"
        },
        "id": "WdJXahkxzhfq",
        "outputId": "51e17f77-a073-48fa-b48c-bf21691eea77"
      },
      "execution_count": 38,
      "outputs": [
        {
          "output_type": "stream",
          "name": "stdout",
          "text": [
            "0.7142857142857143\n"
          ]
        }
      ]
    },
    {
      "cell_type": "markdown",
      "source": [
        "\n",
        "\n",
        "---\n",
        "\n"
      ],
      "metadata": {
        "id": "pUDUi8nbRYKf"
      }
    }
  ]
}