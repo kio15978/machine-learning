{
  "nbformat": 4,
  "nbformat_minor": 0,
  "metadata": {
    "colab": {
      "name": "혼공머신 04. 다양한 분류 알고리즘 - 로지스틱 회귀, 확률적 경사 하강법.ipynb",
      "provenance": [],
      "collapsed_sections": [],
      "authorship_tag": "ABX9TyPLtvHQaLCt41YdSFqcj2XO",
      "include_colab_link": true
    },
    "kernelspec": {
      "name": "python3",
      "display_name": "Python 3"
    },
    "language_info": {
      "name": "python"
    }
  },
  "cells": [
    {
      "cell_type": "markdown",
      "metadata": {
        "id": "view-in-github",
        "colab_type": "text"
      },
      "source": [
        "<a href=\"https://colab.research.google.com/github/kio15978/machine-learning/blob/main/%ED%98%BC%EA%B3%B5%EB%A8%B8%EC%8B%A0_04_%EB%8B%A4%EC%96%91%ED%95%9C_%EB%B6%84%EB%A5%98_%EC%95%8C%EA%B3%A0%EB%A6%AC%EC%A6%98_%EB%A1%9C%EC%A7%80%EC%8A%A4%ED%8B%B1_%ED%9A%8C%EA%B7%80%2C_%ED%99%95%EB%A5%A0%EC%A0%81_%EA%B2%BD%EC%82%AC_%ED%95%98%EA%B0%95%EB%B2%95.ipynb\" target=\"_parent\"><img src=\"https://colab.research.google.com/assets/colab-badge.svg\" alt=\"Open In Colab\"/></a>"
      ]
    },
    {
      "cell_type": "markdown",
      "source": [
        "## **럭키백에 들어갈 생선 확률 계산**\n",
        "\n",
        "럭키백에 들어갈 생선 7개\n",
        "\n",
        "길이, 높이, 두께, 대각선 길이, 무게 특성 이용"
      ],
      "metadata": {
        "id": "5Sl7ZCdUbw9c"
      }
    },
    {
      "cell_type": "markdown",
      "source": [
        "\n",
        "\n",
        "---\n",
        "\n"
      ],
      "metadata": {
        "id": "Pqs2gpNbb0R0"
      }
    },
    {
      "cell_type": "markdown",
      "source": [
        "\n",
        "## **k-최근접 이웃 분류기**\n",
        "\n",
        "k-최근접 이웃은 주변 이웃을 찾아주니까 이웃의 클래스 비율 확률이라고 출력!"
      ],
      "metadata": {
        "id": "KIiHnRkdb1xV"
      }
    },
    {
      "cell_type": "markdown",
      "source": [
        "# **데이터 준비**\n",
        "\n",
        "인터넷에서 직접 CSV 파일 읽어들이기 \n",
        "\n",
        "판다스 read_csv() 함수 -> csv 파일 데이터프레임으로 변환"
      ],
      "metadata": {
        "id": "a_faN03-cB8r"
      }
    },
    {
      "cell_type": "code",
      "execution_count": 1,
      "metadata": {
        "colab": {
          "base_uri": "https://localhost:8080/",
          "height": 206
        },
        "id": "gPL3GEUeXQnc",
        "outputId": "e5ed0556-3d4c-411b-a8da-83668616ad39"
      },
      "outputs": [
        {
          "output_type": "execute_result",
          "data": {
            "text/plain": [
              "  Species  Weight  Length  Diagonal   Height   Width\n",
              "0   Bream   242.0    25.4      30.0  11.5200  4.0200\n",
              "1   Bream   290.0    26.3      31.2  12.4800  4.3056\n",
              "2   Bream   340.0    26.5      31.1  12.3778  4.6961\n",
              "3   Bream   363.0    29.0      33.5  12.7300  4.4555\n",
              "4   Bream   430.0    29.0      34.0  12.4440  5.1340"
            ],
            "text/html": [
              "\n",
              "  <div id=\"df-c27f4692-453c-4fe1-a1f1-6d5bb031e900\">\n",
              "    <div class=\"colab-df-container\">\n",
              "      <div>\n",
              "<style scoped>\n",
              "    .dataframe tbody tr th:only-of-type {\n",
              "        vertical-align: middle;\n",
              "    }\n",
              "\n",
              "    .dataframe tbody tr th {\n",
              "        vertical-align: top;\n",
              "    }\n",
              "\n",
              "    .dataframe thead th {\n",
              "        text-align: right;\n",
              "    }\n",
              "</style>\n",
              "<table border=\"1\" class=\"dataframe\">\n",
              "  <thead>\n",
              "    <tr style=\"text-align: right;\">\n",
              "      <th></th>\n",
              "      <th>Species</th>\n",
              "      <th>Weight</th>\n",
              "      <th>Length</th>\n",
              "      <th>Diagonal</th>\n",
              "      <th>Height</th>\n",
              "      <th>Width</th>\n",
              "    </tr>\n",
              "  </thead>\n",
              "  <tbody>\n",
              "    <tr>\n",
              "      <th>0</th>\n",
              "      <td>Bream</td>\n",
              "      <td>242.0</td>\n",
              "      <td>25.4</td>\n",
              "      <td>30.0</td>\n",
              "      <td>11.5200</td>\n",
              "      <td>4.0200</td>\n",
              "    </tr>\n",
              "    <tr>\n",
              "      <th>1</th>\n",
              "      <td>Bream</td>\n",
              "      <td>290.0</td>\n",
              "      <td>26.3</td>\n",
              "      <td>31.2</td>\n",
              "      <td>12.4800</td>\n",
              "      <td>4.3056</td>\n",
              "    </tr>\n",
              "    <tr>\n",
              "      <th>2</th>\n",
              "      <td>Bream</td>\n",
              "      <td>340.0</td>\n",
              "      <td>26.5</td>\n",
              "      <td>31.1</td>\n",
              "      <td>12.3778</td>\n",
              "      <td>4.6961</td>\n",
              "    </tr>\n",
              "    <tr>\n",
              "      <th>3</th>\n",
              "      <td>Bream</td>\n",
              "      <td>363.0</td>\n",
              "      <td>29.0</td>\n",
              "      <td>33.5</td>\n",
              "      <td>12.7300</td>\n",
              "      <td>4.4555</td>\n",
              "    </tr>\n",
              "    <tr>\n",
              "      <th>4</th>\n",
              "      <td>Bream</td>\n",
              "      <td>430.0</td>\n",
              "      <td>29.0</td>\n",
              "      <td>34.0</td>\n",
              "      <td>12.4440</td>\n",
              "      <td>5.1340</td>\n",
              "    </tr>\n",
              "  </tbody>\n",
              "</table>\n",
              "</div>\n",
              "      <button class=\"colab-df-convert\" onclick=\"convertToInteractive('df-c27f4692-453c-4fe1-a1f1-6d5bb031e900')\"\n",
              "              title=\"Convert this dataframe to an interactive table.\"\n",
              "              style=\"display:none;\">\n",
              "        \n",
              "  <svg xmlns=\"http://www.w3.org/2000/svg\" height=\"24px\"viewBox=\"0 0 24 24\"\n",
              "       width=\"24px\">\n",
              "    <path d=\"M0 0h24v24H0V0z\" fill=\"none\"/>\n",
              "    <path d=\"M18.56 5.44l.94 2.06.94-2.06 2.06-.94-2.06-.94-.94-2.06-.94 2.06-2.06.94zm-11 1L8.5 8.5l.94-2.06 2.06-.94-2.06-.94L8.5 2.5l-.94 2.06-2.06.94zm10 10l.94 2.06.94-2.06 2.06-.94-2.06-.94-.94-2.06-.94 2.06-2.06.94z\"/><path d=\"M17.41 7.96l-1.37-1.37c-.4-.4-.92-.59-1.43-.59-.52 0-1.04.2-1.43.59L10.3 9.45l-7.72 7.72c-.78.78-.78 2.05 0 2.83L4 21.41c.39.39.9.59 1.41.59.51 0 1.02-.2 1.41-.59l7.78-7.78 2.81-2.81c.8-.78.8-2.07 0-2.86zM5.41 20L4 18.59l7.72-7.72 1.47 1.35L5.41 20z\"/>\n",
              "  </svg>\n",
              "      </button>\n",
              "      \n",
              "  <style>\n",
              "    .colab-df-container {\n",
              "      display:flex;\n",
              "      flex-wrap:wrap;\n",
              "      gap: 12px;\n",
              "    }\n",
              "\n",
              "    .colab-df-convert {\n",
              "      background-color: #E8F0FE;\n",
              "      border: none;\n",
              "      border-radius: 50%;\n",
              "      cursor: pointer;\n",
              "      display: none;\n",
              "      fill: #1967D2;\n",
              "      height: 32px;\n",
              "      padding: 0 0 0 0;\n",
              "      width: 32px;\n",
              "    }\n",
              "\n",
              "    .colab-df-convert:hover {\n",
              "      background-color: #E2EBFA;\n",
              "      box-shadow: 0px 1px 2px rgba(60, 64, 67, 0.3), 0px 1px 3px 1px rgba(60, 64, 67, 0.15);\n",
              "      fill: #174EA6;\n",
              "    }\n",
              "\n",
              "    [theme=dark] .colab-df-convert {\n",
              "      background-color: #3B4455;\n",
              "      fill: #D2E3FC;\n",
              "    }\n",
              "\n",
              "    [theme=dark] .colab-df-convert:hover {\n",
              "      background-color: #434B5C;\n",
              "      box-shadow: 0px 1px 3px 1px rgba(0, 0, 0, 0.15);\n",
              "      filter: drop-shadow(0px 1px 2px rgba(0, 0, 0, 0.3));\n",
              "      fill: #FFFFFF;\n",
              "    }\n",
              "  </style>\n",
              "\n",
              "      <script>\n",
              "        const buttonEl =\n",
              "          document.querySelector('#df-c27f4692-453c-4fe1-a1f1-6d5bb031e900 button.colab-df-convert');\n",
              "        buttonEl.style.display =\n",
              "          google.colab.kernel.accessAllowed ? 'block' : 'none';\n",
              "\n",
              "        async function convertToInteractive(key) {\n",
              "          const element = document.querySelector('#df-c27f4692-453c-4fe1-a1f1-6d5bb031e900');\n",
              "          const dataTable =\n",
              "            await google.colab.kernel.invokeFunction('convertToInteractive',\n",
              "                                                     [key], {});\n",
              "          if (!dataTable) return;\n",
              "\n",
              "          const docLinkHtml = 'Like what you see? Visit the ' +\n",
              "            '<a target=\"_blank\" href=https://colab.research.google.com/notebooks/data_table.ipynb>data table notebook</a>'\n",
              "            + ' to learn more about interactive tables.';\n",
              "          element.innerHTML = '';\n",
              "          dataTable['output_type'] = 'display_data';\n",
              "          await google.colab.output.renderOutput(dataTable, element);\n",
              "          const docLink = document.createElement('div');\n",
              "          docLink.innerHTML = docLinkHtml;\n",
              "          element.appendChild(docLink);\n",
              "        }\n",
              "      </script>\n",
              "    </div>\n",
              "  </div>\n",
              "  "
            ]
          },
          "metadata": {},
          "execution_count": 1
        }
      ],
      "source": [
        "import pandas as pd\n",
        "fish = pd.read_csv('http://bit.ly/fish_csv')\n",
        "fish.head()"
      ]
    },
    {
      "cell_type": "markdown",
      "source": [
        "**데이터 프레임이 뭔가요?**\n",
        "\n",
        "2차원표 형식의 주요 데이터 구조 \n",
        "\n",
        "통계와 그래프를 위한 메서드를 풍부하게 제공하며, 넘파이로 상호변환이 쉽고 사이킷런과도 잘 호환됨:)"
      ],
      "metadata": {
        "id": "6Irhg82FcsCD"
      }
    },
    {
      "cell_type": "markdown",
      "source": [
        "### **Species열에서 고유값 추출**\n",
        "* unique() : 고유한 값 추출"
      ],
      "metadata": {
        "id": "pT-oebUHcw69"
      }
    },
    {
      "cell_type": "code",
      "source": [
        "print(pd.unique(fish['Species']))  "
      ],
      "metadata": {
        "colab": {
          "base_uri": "https://localhost:8080/"
        },
        "id": "9Bd3TTotbzgz",
        "outputId": "8c6d1421-4444-412c-aecd-fcb6369bc8ea"
      },
      "execution_count": 3,
      "outputs": [
        {
          "output_type": "stream",
          "name": "stdout",
          "text": [
            "['Bream' 'Roach' 'Whitefish' 'Parkki' 'Perch' 'Pike' 'Smelt']\n"
          ]
        }
      ]
    },
    {
      "cell_type": "markdown",
      "source": [
        "### **입력 데이터로 만들  데이터프레임 열 선택**\n",
        "\n",
        "데이터프레임에서 원하는 열 리스트로 나열\n",
        "\n",
        "species 열 - 타깃  / 나머지 5개 열 - 입력 데이터"
      ],
      "metadata": {
        "id": "QhtfDym7d7K8"
      }
    },
    {
      "cell_type": "code",
      "source": [
        "fish_input = fish[['Weight', 'Length', 'Diagonal', 'Height', 'Width']].to_numpy()  \n",
        "# 넘파이 배열로 바꾸어 fish_iput에 저장"
      ],
      "metadata": {
        "id": "TRiWetJ-dTtO"
      },
      "execution_count": 4,
      "outputs": []
    },
    {
      "cell_type": "markdown",
      "source": [
        "### **타깃 데이터로 만들 데이터프레임 열 선택**"
      ],
      "metadata": {
        "id": "J5TkBsdMemUq"
      }
    },
    {
      "cell_type": "code",
      "source": [
        "fish_target = fish['Species'].to_numpy()   # 넘파이 배열로 바꾸어 fish_target에 저장"
      ],
      "metadata": {
        "id": "dlnkx2NwcuEM"
      },
      "execution_count": 5,
      "outputs": []
    },
    {
      "cell_type": "markdown",
      "source": [
        "### **훈련 세트 - 테스트 세트 나누기**"
      ],
      "metadata": {
        "id": "gYfdHIDre-G-"
      }
    },
    {
      "cell_type": "code",
      "source": [
        "from sklearn.model_selection import train_test_split  # 훈련 세트와 테스트 세트로 나눔\n",
        "train_input, test_input, train_target, test_target = train_test_split(fish_input, fish_target, random_state=42)"
      ],
      "metadata": {
        "id": "ZZWQoOBFehmp"
      },
      "execution_count": 6,
      "outputs": []
    },
    {
      "cell_type": "markdown",
      "source": [
        "### **표준화 전처리**\n",
        "\n",
        "standardscaler 클래스 사용 훈련/테스트 테스 표준화 전처리\n",
        "\n",
        "훈련 세트의 통계 값으로 테스트 세트 변환!"
      ],
      "metadata": {
        "id": "E3vZOI1XgGDp"
      }
    },
    {
      "cell_type": "code",
      "source": [
        "from sklearn.preprocessing import StandardScaler  # 훈련세트와 테스트 세트를 표준화 전처리하기\n",
        "ss = StandardScaler()\n",
        "ss.fit(train_input)\n",
        "train_scaled = ss.transform(train_input)\n",
        "test_scaled = ss.transform(test_input)"
      ],
      "metadata": {
        "id": "_sykC0E8e81h"
      },
      "execution_count": 7,
      "outputs": []
    },
    {
      "cell_type": "markdown",
      "source": [
        "# **k-최근접 이웃 분류기의 확률 예측**\n",
        "\n",
        "사이킷런 KNeighborsClassifier 클래스 객체 만들기 -> 훈련세트 모델 훈련 -> 훈련 세트, 테스트 세트 점수 확인 "
      ],
      "metadata": {
        "id": "wxWlVgKDghUQ"
      }
    },
    {
      "cell_type": "code",
      "source": [
        "from sklearn.neighbors import KNeighborsClassifier  # KNeighborsClassifier 클래스 객체 만들고 훈련 세트와 테스트 세트 확인\n",
        "kn = KNeighborsClassifier(n_neighbors=3) # 최근접 이웃 개수 k를 3으로 지정         \n",
        "kn.fit(train_scaled, train_target)\n",
        "print(kn.score(train_scaled, train_target))\n",
        "print(kn.score(test_scaled, test_target))"
      ],
      "metadata": {
        "colab": {
          "base_uri": "https://localhost:8080/"
        },
        "id": "_Ls1RTJFfiZq",
        "outputId": "3ef61d80-3cd3-461f-e5ab-8cd55af56748"
      },
      "execution_count": 8,
      "outputs": [
        {
          "output_type": "stream",
          "name": "stdout",
          "text": [
            "0.8907563025210085\n",
            "0.85\n"
          ]
        }
      ]
    },
    {
      "cell_type": "markdown",
      "source": [
        "### **다중 분류 : 타깃 데이터에 2개 이상의 클래스가 포함**\n",
        "\n",
        "타깃 데이터 만들 때 fish['Species'] 사용 -> 훈련 세트, 테스트 세트의 타깃 데이터에도 7개의 생선 종류 들어감 = 다중분류\n",
        "\n",
        "사이킷런 통해 문자열로 된 타깃값 그대로 사용 가능\n",
        "\n",
        "주의 - 타깃값 그대로 사이킷런 모델 전달 -> 순서 자동으로 알파벳 순\n",
        "\n",
        "KNeighborClassifier에서 정렬된 값은 classess_ 속성에 저장되어 있음﻿\n"
      ],
      "metadata": {
        "id": "LBdSW-GwiXry"
      }
    },
    {
      "cell_type": "code",
      "source": [
        "print(kn.classes_)  # KNeighborsClassifier에서 정렬된 타깃값은 classes_속성에 저장"
      ],
      "metadata": {
        "colab": {
          "base_uri": "https://localhost:8080/"
        },
        "id": "h9XgtMMzgygP",
        "outputId": "1085f1e5-dc59-4533-ecbf-e1fd1502b62d"
      },
      "execution_count": 9,
      "outputs": [
        {
          "output_type": "stream",
          "name": "stdout",
          "text": [
            "['Bream' 'Parkki' 'Perch' 'Pike' 'Roach' 'Smelt' 'Whitefish']\n"
          ]
        }
      ]
    },
    {
      "cell_type": "markdown",
      "source": [
        "-->  print(pd.unique(fish['Species']))   순서와 다름"
      ],
      "metadata": {
        "id": "mJB441bQsppl"
      }
    },
    {
      "cell_type": "markdown",
      "source": [
        "### **예측**\n",
        "\n",
        "* predict() : 타깃값으로 예측 출력"
      ],
      "metadata": {
        "id": "gtHXEANutl4Q"
      }
    },
    {
      "cell_type": "code",
      "source": [
        "print(kn.predict(test_scaled[:5]))  # predict() 메서드는 친절하게 타깃값으로 예측을 출력, 처음 5개 샘플의 타깃값을 예측"
      ],
      "metadata": {
        "colab": {
          "base_uri": "https://localhost:8080/"
        },
        "id": "NVVwWxnaif5s",
        "outputId": "4a9e0855-6493-40e9-aac8-12fb05b6260d"
      },
      "execution_count": 10,
      "outputs": [
        {
          "output_type": "stream",
          "name": "stdout",
          "text": [
            "['Perch' 'Smelt' 'Pike' 'Perch' 'Perch']\n"
          ]
        }
      ]
    },
    {
      "cell_type": "markdown",
      "source": [
        "처음 5개 샘플의 예측값이 어떤 확률로 만들어졌을까?\n",
        "\n"
      ],
      "metadata": {
        "id": "VV4uBHP7tnRy"
      }
    },
    {
      "cell_type": "markdown",
      "source": [
        "### **클래스별 확률값**\n",
        "\n",
        "* predict_proba() : 클래스별 확률값 반환\n",
        "\n",
        "* round() : 반올림   decimals 매개변수로 소수점 아래 자릿수 지정 (기본 소수점 첫째 자리) "
      ],
      "metadata": {
        "id": "0whTj28dtoTn"
      }
    },
    {
      "cell_type": "code",
      "source": [
        "import numpy as np\n",
        "proba = kn.predict_proba(test_scaled[:5])  # classes_속성과 같은 predict_proba()\n",
        "print(np.round(proba, decimals=4)) # 소수점 네 번째 자리까지 표기. 즉, 다섯 번째 자리에서 반올림"
      ],
      "metadata": {
        "colab": {
          "base_uri": "https://localhost:8080/"
        },
        "id": "wL3GqSmRsj7N",
        "outputId": "8602e60b-f07a-4b5d-db93-c871512b67d5"
      },
      "execution_count": 11,
      "outputs": [
        {
          "output_type": "stream",
          "name": "stdout",
          "text": [
            "[[0.     0.     1.     0.     0.     0.     0.    ]\n",
            " [0.     0.     0.     0.     0.     1.     0.    ]\n",
            " [0.     0.     0.     1.     0.     0.     0.    ]\n",
            " [0.     0.     0.6667 0.     0.3333 0.     0.    ]\n",
            " [0.     0.     0.6667 0.     0.3333 0.     0.    ]]\n"
          ]
        }
      ]
    },
    {
      "cell_type": "markdown",
      "source": [
        "predict_proba() 출력 순서 = classes_  출력 순서\n",
        "\n",
        "한 줄 (행) ~ 샘플 !  한 줄(행)에 한 개(열) 이 타깃 예측에 사용한 5개 \n",
        "\n"
      ],
      "metadata": {
        "id": "Bt2fLceBvtLs"
      }
    },
    {
      "cell_type": "markdown",
      "source": [
        "### **모델이 계산한 확률이 가장 가까운 이웃의 비율이 맞는지 확인**\n",
        "\n",
        "네번쨰 샘플의 최근접 이웃 클래스 확인"
      ],
      "metadata": {
        "id": "NlmwRxNlvuC_"
      }
    },
    {
      "cell_type": "code",
      "source": [
        "distances, indexes = kn.kneighbors(test_scaled[3:4])\n",
        "print(train_target[indexes])"
      ],
      "metadata": {
        "colab": {
          "base_uri": "https://localhost:8080/"
        },
        "id": "_6_z-3Ovtq3S",
        "outputId": "60e2fc03-5400-4a2e-cc24-e52b24c441fa"
      },
      "execution_count": 12,
      "outputs": [
        {
          "output_type": "stream",
          "name": "stdout",
          "text": [
            "[['Roach' 'Perch' 'Perch']]\n"
          ]
        }
      ]
    },
    {
      "cell_type": "markdown",
      "source": [
        "다섯 번째 클래스 Roach 1개 ->  확률 1/3 = 0.3333\n",
        "\n",
        "세 번째 클래스 Perch 2개 -> 확률 2/3 = 0.6667\n",
        "\n",
        "\n",
        "\n",
        "\n",
        "\n",
        "그런데...!!!  3개의 최근접 이웃을 사용하기 때문에 가능한 확률을 0/3, 1/3, 2/3, 3/3이 전부"
      ],
      "metadata": {
        "id": "JrfjXi52wb9l"
      }
    },
    {
      "cell_type": "markdown",
      "source": [
        "# **04-1. 로지스틱 회귀**"
      ],
      "metadata": {
        "id": "Ncnwm6JezhWJ"
      }
    },
    {
      "cell_type": "markdown",
      "source": [
        "## **로지스틱 회귀**\n",
        "이름은 회귀이지만 분류 모델임\n",
        "\n",
        "선형 회귀와 동일하게 선형 방정식 학습\n",
        "\n",
        "\n",
        "\n",
        "***z = a x (weight) + b x (length) + c x (diagonal) + d x (height) + e x (width) + f***\n",
        "\n",
        "\n",
        "a,b,c,d,e = 가중치 or 계수\n",
        "\n",
        "확률 0~1(또는 0~100%) 값이 되어야 함\n",
        "\n"
      ],
      "metadata": {
        "id": "WUgyjarazjHF"
      }
    },
    {
      "cell_type": "markdown",
      "source": [
        "## **시그모이드 함수 ( 로지스틱 함수)**\n",
        "\n",
        "z가 아주 큰 음수일 때 0, z가 아주 큰 양수일 때 1이 되도록 사용\n",
        "\n",
        "선형 방정식의 출력 z의 음수를 사용해 자연 상수 e를 거듭제곱하고 1을 더한 값의 역수\n",
        "\n",
        "=> z가 무한하게 큰 음수일 경우 이 함수는 0에 가까워지고,  z가 무한하게 큰 양수가 될 때는 1에 가까워짐\n",
        "\n",
        "z가 어떤 값이 되더라도 ∮는 절대 0~1 사이 범위 벗어나지 않음"
      ],
      "metadata": {
        "id": "gchq9Hxczo3F"
      }
    },
    {
      "cell_type": "markdown",
      "source": [
        "### **넘파이 이용해서 시그모이드 그래프 그리기**\n",
        "\n",
        "-5와 5 사이에 0.1 간격으로 배열 z를 만든 다음, z위치마다 시그모이드 함수 계산\n",
        "\n",
        "* np.exp() : 지수 함수 계산"
      ],
      "metadata": {
        "id": "Rp6lPdNhztS1"
      }
    },
    {
      "cell_type": "code",
      "source": [
        "import numpy as np\n",
        "import matplotlib.pyplot as plt\n",
        "z = np.arange(-5, 5, 0.1)\n",
        "phi = 1 / (1+np.exp(-z))\n",
        "plt.plot(z, phi)\n",
        "plt.xlabel('z')\n",
        "plt.ylabel('phi')\n",
        "plt.show()"
      ],
      "metadata": {
        "colab": {
          "base_uri": "https://localhost:8080/",
          "height": 279
        },
        "id": "FyJwJkE-vwgh",
        "outputId": "ff84006a-4adf-4947-9e41-251732a53e1d"
      },
      "execution_count": 13,
      "outputs": [
        {
          "output_type": "display_data",
          "data": {
            "text/plain": [
              "<Figure size 432x288 with 1 Axes>"
            ],
            "image/png": "[encoded data removed]"
          },
          "metadata": {
            "needs_background": "light"
          }
        }
      ]
    },
    {
      "cell_type": "markdown",
      "source": [
        "## **로지스틱 회귀로 이진 분류 수행하기**\n",
        "\n",
        "\n",
        "\n",
        "이진분류 : 시그모이드 함수 출력 > 0.5  양성 클래스 /  < 0.5  음성 클래스\n",
        "\n",
        "= 0.5일 경우 라이브러리마다 다름 (사이킷런은 음성)\n",
        "\n",
        "* 불리언 인덱싱 : 넘파이 배열은  True(1), False(0) 값으로만 구성"
      ],
      "metadata": {
        "id": "0IaAu7WI1olL"
      }
    },
    {
      "cell_type": "code",
      "source": [
        "# 불리언 인덱싱(boolean indexing)\n",
        "# 5개의 원소로 이루어진 배열 중 A, C 만 골라내기\n",
        "char_arr = np.array(['A', 'B', 'C', 'D', 'E'])\n",
        "print(char_arr[[True, False, True, False, False]])"
      ],
      "metadata": {
        "colab": {
          "base_uri": "https://localhost:8080/"
        },
        "id": "dGDWU47RzvrX",
        "outputId": "0a396718-c850-40ff-9682-1b5574c8a8d4"
      },
      "execution_count": 14,
      "outputs": [
        {
          "output_type": "stream",
          "name": "stdout",
          "text": [
            "['A' 'C']\n"
          ]
        }
      ]
    },
    {
      "cell_type": "markdown",
      "source": [
        "A ~ E까지 5개로 이루어진 배열\n",
        "\n",
        "'A', 'C'만 골라내려면  첫 번째, 세 번째 원소만 True, 나머지 원소 모두 False인 배열 전달\n",
        "\n"
      ],
      "metadata": {
        "id": "afqcFxx_2f4s"
      }
    },
    {
      "cell_type": "markdown",
      "source": [
        "이와 같은 방식으로\n",
        "\n",
        "### **훈련 세트에 도미(Bream), 빙어(Smelt) 행만 골라내기**\n",
        "\n",
        "비교 연산자 이용해 도미, 빙어 행 모두 True로 만들 수 있음\n",
        "\n",
        "train_target == 'Bream'은 train_target 배열에서 'Bream'인 것은 True, 나머지는 모두 False 배열 반환\n",
        "\n",
        "도미와 빙어에 대한 비교 결과를 비트 OR( | ) 연산자 이용해 합 -> 모디와 빙어에 대한 행만 골라낼 수 있음\n",
        "\n"
      ],
      "metadata": {
        "id": "6Tv2NcXg2g1Q"
      }
    },
    {
      "cell_type": "code",
      "source": [
        "# 불리언 인덱싱으로 도미(Bream)와 빙어(Smelt)의 행만 골라내기\n",
        "# 비교 결과를 비트 or 연산자(|)를 사용해 합치면 골라낼 수 있다.\n",
        "bream_smelt_indexes = (train_target == 'Bream') | (train_target == 'Smelt')\n",
        "train_bream_smelt = train_scaled[bream_smelt_indexes]\n",
        "target_bream_smelt = train_target[bream_smelt_indexes]\n",
        "\n",
        "# bream_smelt_indexes 배열은 도미와 비어일 경우 True, 그 외에는 False"
      ],
      "metadata": {
        "id": "MOC3PEUf1l4a"
      },
      "execution_count": 15,
      "outputs": []
    },
    {
      "cell_type": "markdown",
      "source": [
        "bream_smelt_indexes 배열에는 도미, 빙어일 경우 True, 그 외는 모두 False값이 들어 있음\n",
        "\n",
        "이 배열을 사용해 train_bream_smelt, target_bream_smelt 배열에 불리언 인덱싱 적용\n",
        "\n",
        "\n",
        "-> 도미, 빙어 데이터만 골라낼 수 있음\n",
        " "
      ],
      "metadata": {
        "id": "szlwlJDN3yPx"
      }
    },
    {
      "cell_type": "code",
      "source": [
        "# 도미와 빙어만 골라낸 데이터로 로지스틱 회귀 모델 훈련하기\n",
        "# LogisticRegression 클래스는 선형 모델이므로 sklearn.linear_model 패키지에 존재\n",
        "\n",
        "from sklearn.linear_model import LogisticRegression\n",
        "lr = LogisticRegression()\n",
        "lr.fit(train_bream_smelt, target_bream_smelt)"
      ],
      "metadata": {
        "colab": {
          "base_uri": "https://localhost:8080/"
        },
        "id": "UCxQgaH-2j-3",
        "outputId": "6121ae46-4095-4479-e0d0-4e38361b1ef9"
      },
      "execution_count": 16,
      "outputs": [
        {
          "output_type": "execute_result",
          "data": {
            "text/plain": [
              "LogisticRegression()"
            ]
          },
          "metadata": {},
          "execution_count": 16
        }
      ]
    },
    {
      "cell_type": "markdown",
      "source": [
        "### **처음 5개 샘플 예측**"
      ],
      "metadata": {
        "id": "ttctWvF03_Gj"
      }
    },
    {
      "cell_type": "code",
      "source": [
        "# 훈련한 모델을 사용해 처음 5개 샘플 예측하기\n",
        "print(lr.predict(train_bream_smelt[:5]))"
      ],
      "metadata": {
        "colab": {
          "base_uri": "https://localhost:8080/"
        },
        "id": "uMKFLU2033db",
        "outputId": "8c6d456f-db85-4b53-cf59-278a1f1a68d9"
      },
      "execution_count": 17,
      "outputs": [
        {
          "output_type": "stream",
          "name": "stdout",
          "text": [
            "['Bream' 'Smelt' 'Bream' 'Bream' 'Bream']\n"
          ]
        }
      ]
    },
    {
      "cell_type": "markdown",
      "source": [
        "### **예측 확률 출력**\n",
        "\n",
        "* predict_proba() : 예측 확률"
      ],
      "metadata": {
        "id": "cFFqAfQ044Kg"
      }
    },
    {
      "cell_type": "code",
      "source": [
        "# predict_proba() 메서드를 통해 5개 샘플에 대한 예측 확률 출력\n",
        "# 첫번째 열이 음성클래스(0)에 대한 확률, 두번째 열이 양성큻래스(1)\n",
        "print(lr.predict_proba(train_bream_smelt[:5]))"
      ],
      "metadata": {
        "colab": {
          "base_uri": "https://localhost:8080/"
        },
        "id": "5pvnPOsq4JNY",
        "outputId": "7e92dd82-e386-47e4-82bb-23f24554bf3c"
      },
      "execution_count": 18,
      "outputs": [
        {
          "output_type": "stream",
          "name": "stdout",
          "text": [
            "[[0.99759855 0.00240145]\n",
            " [0.02735183 0.97264817]\n",
            " [0.99486072 0.00513928]\n",
            " [0.98584202 0.01415798]\n",
            " [0.99767269 0.00232731]]\n"
          ]
        }
      ]
    },
    {
      "cell_type": "markdown",
      "source": [
        "샘플마다 2개 확률 출력\n",
        "\n",
        "첫 번째 열 음성 클래스(0)에 대한 확률\n",
        "\n",
        "두 번째 열 양성 클래스(1)에 대한 확률\n",
        "\n",
        "\n",
        "\n"
      ],
      "metadata": {
        "id": "xRA4zYRF5TZR"
      }
    },
    {
      "cell_type": "markdown",
      "source": [
        "\n",
        "### **어떤 것이 양성일지 확인**\n",
        "\n",
        "bream, smelt 중에 어떤 것이 양성일까?\n",
        "\n",
        "사이킷런 타깃값 알파벳순으로 정렬하여 사용"
      ],
      "metadata": {
        "id": "WB5RQLwL5UxD"
      }
    },
    {
      "cell_type": "code",
      "source": [
        "# 첫번째 열 0은 뭐고 1은 뭘까.\n",
        "# 사이킷런은 타깃값을 알파벳순으로 정렬하여 사용- 속성확인으로 확인해보자\n",
        "print(lr.classes_)"
      ],
      "metadata": {
        "colab": {
          "base_uri": "https://localhost:8080/"
        },
        "id": "h9GoUG9e46A9",
        "outputId": "3f6ef1c9-e56c-4584-9e56-d2bb8b668bba"
      },
      "execution_count": 19,
      "outputs": [
        {
          "output_type": "stream",
          "name": "stdout",
          "text": [
            "['Bream' 'Smelt']\n"
          ]
        }
      ]
    },
    {
      "cell_type": "markdown",
      "source": [
        "bream -> 음성(0) 클래스       smelt -> 양성(1) 클래스"
      ],
      "metadata": {
        "id": "G7pywWL-6JZf"
      }
    },
    {
      "cell_type": "markdown",
      "source": [
        "위의 predict_proba() 배열 값 보면\n",
        "\n",
        "두 번째 샘플만 양성 클래스인 빙어 확률 높음 / 나머지 모두 Bream으로 예측\n",
        "\n"
      ],
      "metadata": {
        "id": "BIcuZaoU6KLN"
      }
    },
    {
      "cell_type": "markdown",
      "source": [
        "### **로지스틱 회귀가 학습한 계수 확인**"
      ],
      "metadata": {
        "id": "QF3_RmG06LSq"
      }
    },
    {
      "cell_type": "code",
      "source": [
        "# 선형 회귀처럼 로지스틱 회귀가 학습한 계수 확인하기\n",
        "print(lr.coef_, lr.intercept_)"
      ],
      "metadata": {
        "colab": {
          "base_uri": "https://localhost:8080/"
        },
        "id": "EwygUe2p5Sek",
        "outputId": "12b54212-481a-442d-95e8-7f23b1fac7ac"
      },
      "execution_count": 20,
      "outputs": [
        {
          "output_type": "stream",
          "name": "stdout",
          "text": [
            "[[-0.4037798  -0.57620209 -0.66280298 -1.01290277 -0.73168947]] [-2.16155132]\n"
          ]
        }
      ]
    },
    {
      "cell_type": "markdown",
      "source": [
        "따라서 이 로지스틱 회귀 모델이 학습한 방정식은\n",
        "\n",
        "z = -0.404 x (weight) - 0.576 x (length) -0.663 x (diagonal) - 1.013 x (height) -0.732 x (width) - 2.161\n",
        "\n",
        "\n",
        "로지스틱 회귀는 선형 회귀와 매우 비슷"
      ],
      "metadata": {
        "id": "cmKB6q7C6-ch"
      }
    },
    {
      "cell_type": "markdown",
      "source": [
        "### **LogisitcRegression 모델로 z값 계산**\n",
        "\n",
        "* decision_function() : z 값 출력"
      ],
      "metadata": {
        "id": "_EPJh5gX7AFt"
      }
    },
    {
      "cell_type": "code",
      "source": [
        "# LogisticRegression 클래스는 decision_function()메서드로 z값을 출력할 수 있다!\n",
        "# 처음 5개 샘플의 z 값을 출력해보자\n",
        "\n",
        "decisions = lr.decision_function(train_bream_smelt[:5])\n",
        "print(decisions)"
      ],
      "metadata": {
        "colab": {
          "base_uri": "https://localhost:8080/"
        },
        "id": "WYAHPc826OXn",
        "outputId": "a9e09ad1-d5e3-4959-8979-eb5f804d7955"
      },
      "execution_count": 21,
      "outputs": [
        {
          "output_type": "stream",
          "name": "stdout",
          "text": [
            "[-6.02927744  3.57123907 -5.26568906 -4.24321775 -6.0607117 ]\n"
          ]
        }
      ]
    },
    {
      "cell_type": "markdown",
      "source": [
        "### **시그모이드 함수에 값 통과**\n",
        "\n",
        "위 z값을 시그모이드 함수에 통과시키면 확률 얻을 수 있음\n",
        "\n",
        "* expit() : 사이파이 라이브러리에 시그모이드 함수"
      ],
      "metadata": {
        "id": "JR_TvBnt7sMX"
      }
    },
    {
      "cell_type": "code",
      "source": [
        "from scipy.special import expit\n",
        "print(expit(decisions))"
      ],
      "metadata": {
        "colab": {
          "base_uri": "https://localhost:8080/"
        },
        "id": "yasj8qP_7ErR",
        "outputId": "bebdda6c-e58c-4478-e675-0aa27afb0b54"
      },
      "execution_count": 22,
      "outputs": [
        {
          "output_type": "stream",
          "name": "stdout",
          "text": [
            "[0.00240145 0.97264817 0.00513928 0.01415798 0.00232731]\n"
          ]
        }
      ]
    },
    {
      "cell_type": "markdown",
      "source": [
        "## **로지스틱 회귀로 다중 분류 수행하기**\n",
        "LogisticRegression 클래스 반복적인 알고리즘 사용\n",
        "\n",
        "* max_iter : 반복 횟수 지정 (기본값 100) \n",
        "\n",
        "\n",
        "\n",
        "릿지 회귀와 같이 계수의 제곱을 규제함 => L2 규제\n",
        "\n",
        "* C : LogisticRegression 규제를 제어하는 매개변수\n",
        "\n",
        " 작을수록 규제가 커짐  C 기본값 1\n",
        "\n",
        "\n",
        "\n"
      ],
      "metadata": {
        "id": "O6fSwi5K9cRh"
      }
    },
    {
      "cell_type": "code",
      "source": [
        "# 규제를 완화하기 위해 C를 20으로 늘림\n",
        "# 7개의 생선 데이터가 모두 들어있는 리스트 사용\n",
        "lr = LogisticRegression(C=20, max_iter=1000)\n",
        "lr.fit(train_scaled, train_target)\n",
        "print(lr.score(train_scaled, train_target))\n",
        "print(lr.score(test_scaled, test_target))"
      ],
      "metadata": {
        "colab": {
          "base_uri": "https://localhost:8080/"
        },
        "id": "a2OE_ii_7vS3",
        "outputId": "f0e2d0d0-a900-4781-b378-880bf727c3af"
      },
      "execution_count": 23,
      "outputs": [
        {
          "output_type": "stream",
          "name": "stdout",
          "text": [
            "0.9327731092436975\n",
            "0.925\n"
          ]
        }
      ]
    },
    {
      "cell_type": "markdown",
      "source": [
        "### **테스트 세트 처음 5개 샘플 예측**"
      ],
      "metadata": {
        "id": "riZCbAn99yGp"
      }
    },
    {
      "cell_type": "code",
      "source": [
        "# 훈련 세트와 테스트 세트가 과대적합이나 과소적합이 아닌 것으로 보여짐.\n",
        "# 테스트 세트의 처음 5개 샘플에 대한 예측 출력\n",
        "print(lr.predict(test_scaled[:5]))"
      ],
      "metadata": {
        "colab": {
          "base_uri": "https://localhost:8080/"
        },
        "id": "1NL2Fy3j9oYp",
        "outputId": "a96b04a7-12f2-4c6f-dc03-ad6aeb358ced"
      },
      "execution_count": 24,
      "outputs": [
        {
          "output_type": "stream",
          "name": "stdout",
          "text": [
            "['Perch' 'Smelt' 'Pike' 'Roach' 'Perch']\n"
          ]
        }
      ]
    },
    {
      "cell_type": "markdown",
      "source": [
        "### **테스트 세트 처음 5개 샘플 예측 확률 출력**"
      ],
      "metadata": {
        "id": "ogK-yyT3-D7u"
      }
    },
    {
      "cell_type": "code",
      "source": [
        "# 처음 5개 샘플에 대한 예측 확률을 출력\n",
        "# 출력을 간소하게 하기 위해 소수점 네번째 자리에서 반올림\n",
        "proba = lr.predict_proba(test_scaled[:5])\n",
        "print(np.round(proba, decimals=3))"
      ],
      "metadata": {
        "colab": {
          "base_uri": "https://localhost:8080/"
        },
        "id": "IgYu5dLq90IO",
        "outputId": "57d50954-ba2d-49fc-9714-fb78d8180749"
      },
      "execution_count": 25,
      "outputs": [
        {
          "output_type": "stream",
          "name": "stdout",
          "text": [
            "[[0.    0.014 0.841 0.    0.136 0.007 0.003]\n",
            " [0.    0.003 0.044 0.    0.007 0.946 0.   ]\n",
            " [0.    0.    0.034 0.935 0.015 0.016 0.   ]\n",
            " [0.011 0.034 0.306 0.007 0.567 0.    0.076]\n",
            " [0.    0.    0.904 0.002 0.089 0.002 0.001]]\n"
          ]
        }
      ]
    },
    {
      "cell_type": "markdown",
      "source": [
        "5개 샘플에 대한 예측 -> 5개 행 출력\n",
        "\n",
        "7개 생선에 대한 확률 => 7개 열"
      ],
      "metadata": {
        "id": "1tp1Hcks-tQZ"
      }
    },
    {
      "cell_type": "markdown",
      "source": [
        "### **classes_ 속성에서 클래스 정보 확인**"
      ],
      "metadata": {
        "id": "v6V8Y6jd-uA0"
      }
    },
    {
      "cell_type": "code",
      "source": [
        "# 출력한 5개 샘플들의 클래스 정보 확인하기\n",
        "print(lr.classes_)"
      ],
      "metadata": {
        "colab": {
          "base_uri": "https://localhost:8080/"
        },
        "id": "4h-MVhE2-FqZ",
        "outputId": "58953de3-d04e-44dc-86e3-83d42fac849f"
      },
      "execution_count": 26,
      "outputs": [
        {
          "output_type": "stream",
          "name": "stdout",
          "text": [
            "['Bream' 'Parkki' 'Perch' 'Pike' 'Roach' 'Smelt' 'Whitefish']\n"
          ]
        }
      ]
    },
    {
      "cell_type": "markdown",
      "source": [
        "이진 분류  - 샘플마다 2개의 확률 출력\n",
        "\n",
        "다중 분류 - 샘플마다 클래스 개수만큼 확률 출력\n",
        "\n",
        "이 중에서 가장 높은 확률이 예측 클래스가 됨\n",
        "\n"
      ],
      "metadata": {
        "id": "J-aTRv5v_kMq"
      }
    },
    {
      "cell_type": "markdown",
      "source": [
        "### **coef_ intercept_ 크기 출력**"
      ],
      "metadata": {
        "id": "cgfKOR6s_qvr"
      }
    },
    {
      "cell_type": "code",
      "source": [
        "# 다중 분류일 경우 선형 방정식은 어떠한 모습일까?\n",
        "# coef_intercept_의 크기를 출력해보자\n",
        "print(lr.coef_.shape, lr.intercept_.shape)"
      ],
      "metadata": {
        "colab": {
          "base_uri": "https://localhost:8080/"
        },
        "id": "yR7Njvga-zDP",
        "outputId": "97361918-35c2-402a-a5f4-e88ba330ca09"
      },
      "execution_count": 27,
      "outputs": [
        {
          "output_type": "stream",
          "name": "stdout",
          "text": [
            "(7, 5) (7,)\n"
          ]
        }
      ]
    },
    {
      "cell_type": "markdown",
      "source": [
        "5개의 특성 사용 coref_ 배열의 열 5\n",
        "\n",
        "그런데 행 7, intercept도 7개\n",
        "\n",
        " \n",
        "\n",
        "다중 분류 - 클래스마다  z값을 하나씩 계산 -> 가장 높은 z값 출력하는 클래스가 예측 클래스\n",
        "\n",
        "z를 7개 계산\n",
        "\n"
      ],
      "metadata": {
        "id": "tw4wQjflCRYO"
      }
    },
    {
      "cell_type": "markdown",
      "source": [
        "## **> 소프트맥스 함수**\n",
        "여러 개의 선형 방정식의 출력값을 0~1 사이로 압축하고 전체 합이 1이 되도록 만듦\n",
        "\n",
        "이를 위해 지수 함수를 사용 ~ 정규화된 지수 함수라고도 부름\n",
        "\n",
        "소프트맥스 함수 사용 => 7개의 z값을 확률로 변환\n",
        "\n",
        "\n",
        "\n",
        "7개의 z 값의 이름 z1 ~ z7\n",
        "\n",
        "z1~ z7까지 값을 사용해 지수 함수 e^z1 ~ e^z7 계산해 모두 더한다. 이를 e_sum이라고 함"
      ],
      "metadata": {
        "id": "iwvP5TtcCShA"
      }
    },
    {
      "cell_type": "markdown",
      "source": [
        "그 다음 e^z1 ~ e^z7을 각각 e_sum으로 나누어 준다\n",
        "\n",
        "s1에서 s7까지 모두 더하면 분자와 분모가 같아지므로 1이 됨\n",
        "\n",
        "\n",
        "\n",
        "=> decision_function() 매서드로 z1 ~ z7까지 값을 구한 다음 소프트맥스 함수를 사용해 확률로 바꾸기"
      ],
      "metadata": {
        "id": "ML6K5xxnCU4v"
      }
    },
    {
      "cell_type": "markdown",
      "source": [
        "\n",
        "### **테스트 세트 처음 5개 샘플에 대한 z1 ~ z7 값**"
      ],
      "metadata": {
        "id": "ZO_0JFoSCX7-"
      }
    },
    {
      "cell_type": "code",
      "source": [
        "decision = lr.decision_function(test_scaled[:5])\n",
        "print(np.round(decision, decimals=2))"
      ],
      "metadata": {
        "colab": {
          "base_uri": "https://localhost:8080/"
        },
        "id": "c9jLIkaF_s5w",
        "outputId": "e1cca3d5-984c-4cd8-8622-a521060b4835"
      },
      "execution_count": 28,
      "outputs": [
        {
          "output_type": "stream",
          "name": "stdout",
          "text": [
            "[[ -6.5    1.03   5.16  -2.73   3.34   0.33  -0.63]\n",
            " [-10.86   1.93   4.77  -2.4    2.98   7.84  -4.26]\n",
            " [ -4.34  -6.23   3.17   6.49   2.36   2.42  -3.87]\n",
            " [ -0.68   0.45   2.65  -1.19   3.26  -5.75   1.26]\n",
            " [ -6.4   -1.99   5.82  -0.11   3.5   -0.11  -0.71]]\n"
          ]
        }
      ]
    },
    {
      "cell_type": "markdown",
      "source": [
        "\n",
        "### **decision 배열 softmax() 함수 전달**\n",
        "\n",
        "사이파이 소프트맥스 함수 - scipy.special 아래 softmax() 함수"
      ],
      "metadata": {
        "id": "UbzbOOHaC6Xr"
      }
    },
    {
      "cell_type": "code",
      "source": [
        "# 사이파이는 소프트맥스 함수도 제공함\n",
        "# scipy.special 아래에 softmax() 함수를 임포트해 사용함\n",
        "from scipy.special import softmax\n",
        "proba = softmax(decision, axis=1)\n",
        "print(np.round(proba, decimals=3))"
      ],
      "metadata": {
        "colab": {
          "base_uri": "https://localhost:8080/"
        },
        "id": "Oqok5qbgCaC1",
        "outputId": "4d5b1e05-664f-4457-ae2d-0c6ebaf805bd"
      },
      "execution_count": 29,
      "outputs": [
        {
          "output_type": "stream",
          "name": "stdout",
          "text": [
            "[[0.    0.014 0.841 0.    0.136 0.007 0.003]\n",
            " [0.    0.003 0.044 0.    0.007 0.946 0.   ]\n",
            " [0.    0.    0.034 0.935 0.015 0.016 0.   ]\n",
            " [0.011 0.034 0.306 0.007 0.567 0.    0.076]\n",
            " [0.    0.    0.904 0.002 0.089 0.002 0.001]]\n"
          ]
        }
      ]
    },
    {
      "cell_type": "markdown",
      "source": [
        "axis : 소프트맥스를 계산할 축 지정\n",
        "\n",
        "   axis = 1 각 행, 즉 각 샘플에 대해 소프트맥스 계산\n",
        "   \n",
        "         aixs 지정하지 않으면 배열 전체에 대해 소프트맥스 계산\n"
      ],
      "metadata": {
        "id": "rW6qBirsDk92"
      }
    },
    {
      "cell_type": "markdown",
      "source": [
        "#**04-2 확률적 경사 하강법**\n",
        "\n",
        "\n",
        "## **SGDClassifier**"
      ],
      "metadata": {
        "id": "C7NiLQ0wXzon"
      }
    },
    {
      "cell_type": "code",
      "source": [
        "import pandas as pd  # fish_csv_data 파일에서 판다스 데이터프레임을 만듦\n",
        "fish = pd.read_csv('https://bit.ly/fish_csv')"
      ],
      "metadata": {
        "id": "K7_4jcJuDkKX"
      },
      "execution_count": 30,
      "outputs": []
    },
    {
      "cell_type": "markdown",
      "source": [
        "### **입력 / 타깃 데이터**"
      ],
      "metadata": {
        "id": "m2QuIAPiYCe8"
      }
    },
    {
      "cell_type": "code",
      "source": [
        "# Species 열을 제외한 나머지 5개 입력 데이터로 사용. Species 열은 타깃데이터임.\n",
        "fish_input = fish[['Weight', 'Length', 'Diagonal', 'Height', 'Width']].to_numpy()\n",
        "fish_target = fish['Species'].to_numpy()"
      ],
      "metadata": {
        "id": "QrQnxxasX4Kp"
      },
      "execution_count": 31,
      "outputs": []
    },
    {
      "cell_type": "markdown",
      "source": [
        "### **훈련 세트 / 테스트 세트**"
      ],
      "metadata": {
        "id": "D7c0DRhsYlXR"
      }
    },
    {
      "cell_type": "markdown",
      "source": [
        "* train_test_split( ) : 전달되는 리스트나 배열을 비율에 맞게 훈련 세트와 테스트 세트로 나누어줌"
      ],
      "metadata": {
        "id": "hpKhEMwZYiK6"
      }
    },
    {
      "cell_type": "code",
      "source": [
        "# 사이킷런의 train_test_split() 함수를 사용해 훈련 세트와 테스트 세트로 나눔\n",
        "from sklearn.model_selection import train_test_split\n",
        "train_input, test_input, train_target, test_target = train_test_split(fish_input, fish_target, random_state=42)"
      ],
      "metadata": {
        "id": "x9vkPnR5YEq9"
      },
      "execution_count": 32,
      "outputs": []
    },
    {
      "cell_type": "markdown",
      "source": [
        "### **표준화 전처리**\n",
        "훈련 세트와 테스트 세트 특성 표준화 전처리\n",
        "\n"
      ],
      "metadata": {
        "id": "QbOqc_EBY2KX"
      }
    },
    {
      "cell_type": "code",
      "source": [
        "# 훈련 세트와 테스트 세트의 특성을 표준화 전처리함\n",
        "from sklearn.preprocessing import StandardScaler\n",
        "ss = StandardScaler()\n",
        "ss.fit(train_input)\n",
        "train_scaled = ss.transform(train_input)\n",
        "test_scaled = ss.transform(test_input)"
      ],
      "metadata": {
        "id": "AvjP0Jc4YnxS"
      },
      "execution_count": 33,
      "outputs": []
    },
    {
      "cell_type": "markdown",
      "source": [
        "### **SGDClassifier 임포트**\n",
        "사이킷런에서 확률적 경사 하강법 제공하는 대표적 분류용 클래스\n",
        "\n",
        "sklearn.linear_model 패키지 아래 SGDClassifier"
      ],
      "metadata": {
        "id": "Nvxfj7dsZMVC"
      }
    },
    {
      "cell_type": "code",
      "source": [
        "# 사이킷런에서 확률적 경사 하강법을 제공하는 대표적인 분류용 클래스 SGDClassifier\n",
        "from sklearn.linear_model import SGDClassifier"
      ],
      "metadata": {
        "id": "ParNhf4BY5nk"
      },
      "execution_count": 34,
      "outputs": []
    },
    {
      "cell_type": "markdown",
      "source": [
        "### **SGDClassifier의 객체 만들 때 2개의 매개변수 지정**\n",
        "### **훈련 / 테스트 세트 정확도 점수 출력**\n",
        "* loss  : 손실 함수 종류 지정   \n",
        "\n",
        "   loss='log' 로지스틱 손실 함수\n",
        "\n",
        "* max_iter : 수행할 에포크 횟수"
      ],
      "metadata": {
        "id": "QRuCPza0ac0T"
      }
    },
    {
      "cell_type": "code",
      "source": [
        "# loss는 손실 함수의 종류 지정, loss='log'로 지정하여 로지스틱 손실 함수를 지정\n",
        "# max_iter는 수행해야할 에포크 횟수를 지정함\n",
        "sc = SGDClassifier(loss='log', max_iter=10, random_state=42)\n",
        "sc.fit(train_scaled, train_target)\n",
        "print(sc.score(train_scaled, train_target))\n",
        "print(sc.score(test_scaled, test_target))"
      ],
      "metadata": {
        "colab": {
          "base_uri": "https://localhost:8080/"
        },
        "id": "sU0A8e45ZOn_",
        "outputId": "429a45a1-0f3c-4741-dbaf-0a07aadda837"
      },
      "execution_count": 35,
      "outputs": [
        {
          "output_type": "stream",
          "name": "stdout",
          "text": [
            "0.773109243697479\n",
            "0.775\n"
          ]
        },
        {
          "output_type": "stream",
          "name": "stderr",
          "text": [
            "/usr/local/lib/python3.7/dist-packages/sklearn/linear_model/_stochastic_gradient.py:700: ConvergenceWarning: Maximum number of iteration reached before convergence. Consider increasing max_iter to improve the fit.\n",
            "  ConvergenceWarning,\n"
          ]
        }
      ]
    },
    {
      "cell_type": "markdown",
      "source": [
        "+) convergenceWaring -> 모델이 충분히 수렴하지 않았다 -> max_iter 매개변수 값을 늘려주는 게 좋음"
      ],
      "metadata": {
        "id": "HtI1Xe_Wag5U"
      }
    },
    {
      "cell_type": "markdown",
      "source": [
        "### **모델 추가 훈련**\n",
        "\n",
        "* partial_fit() : 모델 이어서 훈련\n",
        "\n",
        "    fit() 메서드와 사용법 같지만, 호출할 때마다 1 에포크씩 이어서 훈련할 수 있음\n",
        "\n"
      ],
      "metadata": {
        "id": "C_u-Czq5ah9a"
      }
    },
    {
      "cell_type": "code",
      "source": [
        "# 모델을 이어서 추가 훈련을 할 때에는 partial_fit() 메서도 사용\n",
        "sc.partial_fit(train_scaled, train_target)\n",
        "print(sc.score(train_scaled, train_target))\n",
        "print(sc.score(test_scaled, test_target)) "
      ],
      "metadata": {
        "colab": {
          "base_uri": "https://localhost:8080/"
        },
        "id": "CvYYRShPanhS",
        "outputId": "6eb62d0b-bb81-409c-9915-e8cb0e2d2080"
      },
      "execution_count": 36,
      "outputs": [
        {
          "output_type": "stream",
          "name": "stdout",
          "text": [
            "0.8151260504201681\n",
            "0.85\n"
          ]
        }
      ]
    },
    {
      "cell_type": "markdown",
      "source": [
        "(SGDClassifier 객체에 한 번에 훈련 세트 전체를 전달했지만\n",
        "\n",
        "알고리즘은 전달한 훈련 세트에서 1개씩 샘플을 꺼내어 경사 하강법 단계를 수행함)"
      ],
      "metadata": {
        "id": "mpD3SAF2a6RB"
      }
    },
    {
      "cell_type": "markdown",
      "source": [
        "\n",
        "에포크를 한 번 더 실행하니 정확도가 향상됨\n",
        "\n",
        "에포크를 얼마나 더 훈련해야 할까? 어떤 기준으로 반복할까"
      ],
      "metadata": {
        "id": "yKMeTBRha6di"
      }
    },
    {
      "cell_type": "markdown",
      "source": [
        "## **에포크와 과대 / 과소적합**\n",
        "확률적 경사 하강법을 사용한 모델은 에포크 욋수에 따라 과소적합이나 과대적합이 될 수 있음﻿\n",
        "\n",
        "\n",
        "\n",
        "적은 에포크 횟수 동안에 훈련한 모델은 훈련 세트와 테스트 세트에 잘 맞지 않는 과소적합\n",
        "\n",
        "많은 에포크 횟수 동안에 훈련한 모델은 훈련 세트에 너무 잘 맞아 테스트 세트에는 오히려 점수가 나쁜 과대적합"
      ],
      "metadata": {
        "id": "FbeaKtl-bEAl"
      }
    },
    {
      "cell_type": "markdown",
      "source": [
        "훈련 세트 점수는 에포크가 진행될수록 꾸준히 증가\n",
        "\n",
        "테스트 세트 점수는 어느 순간 감소 -> 이 지점이 모델이 과대적합되기 시작하는 곳\n",
        "\n",
        "과대적합이 시작하기 전에 훈련 멈추는 것 : 조기종료"
      ],
      "metadata": {
        "id": "z7rnEtJjc_ix"
      }
    },
    {
      "cell_type": "markdown",
      "source": [
        "### **portial_fit 사용 리스트 준비**\n",
        "partial_fit() 메서드만 사용하려면 훈련 세트에 있는 전체 클래스의 레이블을 partial_fit() 메서드에 전달해 줘야함\n",
        "np.unique() 함수로 train_target에 잇는 7개 생선 목록 만들고﻿\n",
        "\n",
        "에포크마다 훈련 세트와 테스트 세트에 대한 점수를 기록하기 위해 2개 리스트 준비"
      ],
      "metadata": {
        "id": "UAsptzUPdDPv"
      }
    },
    {
      "cell_type": "code",
      "source": [
        "# 준비한 데이터 셋으로 그래프 만들기\n",
        "# partial_fit()메서드 사용하여 2개의 리스트 준비\n",
        "import numpy as np\n",
        "sc = SGDClassifier(loss='log', random_state=42)\n",
        "train_score =[]\n",
        "test_score = []\n",
        "classes = np.unique(train_target)"
      ],
      "metadata": {
        "id": "yU115xb3anu-"
      },
      "execution_count": 37,
      "outputs": []
    },
    {
      "cell_type": "markdown",
      "source": [
        "### **훈련 진행**\n",
        "300번 에포크 동안 훈련 반복 진행\n",
        "\n",
        "반복마다 훈련 세트와 테스트 세트의 점수를 계산하여 train_score, test_score 리스트에 추가"
      ],
      "metadata": {
        "id": "b6JexK77dB5x"
      }
    },
    {
      "cell_type": "code",
      "source": [
        "# 300번의 에포크 동안 훈련을 반복하여 진행\n",
        "# 반복마다 훈련 세트와 테스트 세트의 점수를 계산하여 리스트에 추가\n",
        "for _ in range(0, 300):\n",
        "  sc.partial_fit(train_scaled, train_target, classes=classes)\n",
        "  train_score.append(sc.score(train_scaled, train_target))\n",
        "  test_score.append(sc.score(test_scaled, test_target))"
      ],
      "metadata": {
        "id": "upuZDYz7diFN"
      },
      "execution_count": 38,
      "outputs": []
    },
    {
      "cell_type": "markdown",
      "source": [
        "### **에포크 과소 / 과대적합 그래프 그리기**"
      ],
      "metadata": {
        "id": "6iMvSGRMd4aX"
      }
    },
    {
      "cell_type": "code",
      "source": [
        "# 300번의 에포크 동안 기록한 점수 그래프로 그리기\n",
        "import matplotlib.pyplot as plt\n",
        "plt.plot(train_score)\n",
        "plt.plot(test_score)\n",
        "plt.xlabel('epoch')\n",
        "plt.ylabel('accuracy')\n",
        "plt.show()"
      ],
      "metadata": {
        "colab": {
          "base_uri": "https://localhost:8080/",
          "height": 279
        },
        "id": "B94yAVDfdiTU",
        "outputId": "b6505206-3e10-425f-bc5d-8e7e24056039"
      },
      "execution_count": 39,
      "outputs": [
        {
          "output_type": "display_data",
          "data": {
            "text/plain": [
              "<Figure size 432x288 with 1 Axes>"
            ],
            "image/png": "[encoded data removed]"
          },
          "metadata": {
            "needs_background": "light"
          }
        }
      ]
    },
    {
      "cell_type": "markdown",
      "source": [
        "백 번째 에포크 이후에는 훈련 세트와 테스트 세트의 점수가 조금씩 벌어지고 있음\n",
        "\n",
        "에포크 초기에는 과소적합 - 훈련 세트와 테스트 세트의 점수가 낮음\n",
        "\n",
        "=> 백 번째 에포크가 적절한 반복 횟수\n",
        "\n"
      ],
      "metadata": {
        "id": "GIwnwmOHeTYh"
      }
    },
    {
      "cell_type": "markdown",
      "source": [
        "### **에포크 100으로 맞추고 다시 훈련**\n",
        "SGDClassifier 반복 횟수 100으로 맞추고 모델 훈련\n",
        "\n",
        "최종적 훈련 세트와 테스트 세트 점수 출력\n"
      ],
      "metadata": {
        "id": "rW4qUDUaeUQa"
      }
    },
    {
      "cell_type": "code",
      "source": [
        "sc = SGDClassifier(loss='log', max_iter=100, tol=None, random_state=42)\n",
        "sc.fit(train_scaled, train_target)\n",
        "print(sc.score(train_scaled, train_target))\n",
        "print(sc.score(test_scaled, test_target))"
      ],
      "metadata": {
        "colab": {
          "base_uri": "https://localhost:8080/"
        },
        "id": "QhdPU1xJd8jM",
        "outputId": "7d8d0774-2813-4490-f2e9-6b2c32bc4df6"
      },
      "execution_count": 40,
      "outputs": [
        {
          "output_type": "stream",
          "name": "stdout",
          "text": [
            "0.957983193277311\n",
            "0.925\n"
          ]
        }
      ]
    },
    {
      "cell_type": "markdown",
      "source": [
        "SGDClassifier 는 일정 에포크 동안 성능이 향상되지 않으면 더 훈련하지 않고 자동으로 멈춤\n",
        "\n",
        "* tol : 향상될 최솟값 지정﻿\n",
        "\n",
        " tol 매개변수 None 지정 - 자동으로 멈추지 않고 max_iter = 100만큼 무조건 반복"
      ],
      "metadata": {
        "id": "OG_DXq7IfCbI"
      }
    },
    {
      "cell_type": "markdown",
      "source": [
        "최종 점수 좋음\n",
        "\n",
        "확률적 경사 하강법을 사용한 생선 분류 문제 성공적 수행!"
      ],
      "metadata": {
        "id": "I9fdJNMxfa1r"
      }
    }
  ]
}