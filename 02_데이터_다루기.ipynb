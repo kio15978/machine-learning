{
  "nbformat": 4,
  "nbformat_minor": 0,
  "metadata": {
    "colab": {
      "name": "02. 데이터 다루기.ipynb",
      "provenance": [],
      "collapsed_sections": [],
      "authorship_tag": "ABX9TyNNEEGNscAqq3qZrdNINrVx",
      "include_colab_link": true
    },
    "kernelspec": {
      "name": "python3",
      "display_name": "Python 3"
    },
    "language_info": {
      "name": "python"
    }
  },
  "cells": [
    {
      "cell_type": "markdown",
      "metadata": {
        "id": "view-in-github",
        "colab_type": "text"
      },
      "source": [
        "<a href=\"https://colab.research.google.com/github/kio15978/machine-learning/blob/main/02_%EB%8D%B0%EC%9D%B4%ED%84%B0_%EB%8B%A4%EB%A3%A8%EA%B8%B0.ipynb\" target=\"_parent\"><img src=\"https://colab.research.google.com/assets/colab-badge.svg\" alt=\"Open In Colab\"/></a>"
      ]
    },
    {
      "cell_type": "markdown",
      "source": [
        "\n",
        "\n",
        "---\n",
        "\n"
      ],
      "metadata": {
        "id": "RO-KOmH2UwdI"
      }
    },
    {
      "cell_type": "markdown",
      "source": [
        "# **unit.02 데이터 다루기**"
      ],
      "metadata": {
        "id": "F-hwgwn_UsGO"
      }
    },
    {
      "cell_type": "markdown",
      "source": [
        "# **머신러닝 알고리즘**\n",
        "\n",
        "**지도 학습 vs 비지도 학습**\n",
        "\n",
        "\n",
        "\n",
        "***지도학습*** : 정답(타깃)이 있으니 알고리즘이 정답을 맞히는 것을 학습\n",
        "\n",
        "  훈련하기 위한 데이터와 정답 필요\n",
        "\n",
        "데이터 = 입력, 정답 = 타깃, 이 둘을 합쳐 훈련데이터\n",
        "\n",
        "***비지도학습*** : 타킷 없이 입력 데이터만 사용\n",
        "\n",
        "-> 정답을 사용하지 않으므로 무언가 맞힐 수 없음\n",
        "\n",
        "  대신 데이터를 잘 파악하거나 변형할 수 있음"
      ],
      "metadata": {
        "id": "Ye9O8ud6VBE_"
      }
    },
    {
      "cell_type": "markdown",
      "source": [
        "\\\n",
        "\n",
        "---\n",
        "\n"
      ],
      "metadata": {
        "id": "6-atrQiFY_zn"
      }
    },
    {
      "cell_type": "markdown",
      "source": [
        "# **2-1. 훈련세트와 테스트 세트**"
      ],
      "metadata": {
        "id": "OZhPHPtxV4U9"
      }
    },
    {
      "cell_type": "markdown",
      "source": [
        "평가에 사용하는 데이터 = 테스트 세트,  훈련에 사용되는 데이터 = 훈련 세트"
      ],
      "metadata": {
        "id": "hzHZbrFIV1WL"
      }
    },
    {
      "cell_type": "markdown",
      "source": [
        "훈련에 사용한 데이터로 모델을 평가하는 것 적절하지 않음\n",
        "\n",
        "훈련할 때 사용하지 않은 데이터로 평가해야 함\n",
        "\n",
        "이를 위해 훈련 데이터에서 일부를 떼어 내어 테스트 세트로 사용"
      ],
      "metadata": {
        "id": "7LBGmYn3VqGh"
      }
    },
    {
      "cell_type": "markdown",
      "source": [
        "## **도미와 빙어의 데이터 합친 파이썬 리스트**"
      ],
      "metadata": {
        "id": "-5iLTEiaWB6b"
      }
    },
    {
      "cell_type": "code",
      "source": [
        "fish_length = [25.4, 26.3, 26.5, 29.0, 29.0, 29.7, 29.7, 30.0, 30.0, 30.7, 31.0, 31.0, \n",
        "                31.5, 32.0, 32.0, 32.0, 33.0, 33.0, 33.5, 33.5, 34.0, 34.0, 34.5, 35.0, \n",
        "                35.0, 35.0, 35.0, 36.0, 36.0, 37.0, 38.5, 38.5, 39.5, 41.0, 41.0, 9.8, \n",
        "                10.5, 10.6, 11.0, 11.2, 11.3, 11.8, 11.8, 12.0, 12.2, 12.4, 13.0, 14.3, 15.0]\n",
        "fish_weight = [242.0, 290.0, 340.0, 363.0, 430.0, 450.0, 500.0, 390.0, 450.0, 500.0, 475.0, 500.0, \n",
        "                500.0, 340.0, 600.0, 600.0, 700.0, 700.0, 610.0, 650.0, 575.0, 685.0, 620.0, 680.0, \n",
        "                700.0, 725.0, 720.0, 714.0, 850.0, 1000.0, 920.0, 955.0, 925.0, 975.0, 950.0, 6.7, \n",
        "                7.5, 7.0, 9.7, 9.8, 8.7, 10.0, 9.9, 9.8, 12.2, 13.4, 12.2, 19.7, 19.9]"
      ],
      "metadata": {
        "id": "xxRegxR_Ux0U"
      },
      "execution_count": 79,
      "outputs": []
    },
    {
      "cell_type": "markdown",
      "source": [
        "## **두 파이썬 리스트를 순회하여 각 생선의 길이와 무게를 하나의 리스트로 담은 2차원 리스트 만들기**"
      ],
      "metadata": {
        "id": "uzmgAb-GWGbV"
      }
    },
    {
      "cell_type": "code",
      "execution_count": 80,
      "metadata": {
        "id": "NBYYy3D-Un-X"
      },
      "outputs": [],
      "source": [
        "fish_data = [[l, w] for l, w in zip(fish_length, fish_weight)]\n",
        "fish_target = [1]*35 + [0]*14"
      ]
    },
    {
      "cell_type": "markdown",
      "source": [
        "하나의 생선 데이터 = 샘플\n",
        "\n",
        "도미(35) + 빙어(14) -> 전체 데이터는 49개 샘플, 사용하는 특성은 길이와 무게 2개"
      ],
      "metadata": {
        "id": "0sDfQhQJXwUR"
      }
    },
    {
      "cell_type": "markdown",
      "source": [
        "## **사이킷런의 KNeighborsClassifer 클래스 임포트하고 모델 객체 생성**"
      ],
      "metadata": {
        "id": "FYDjxf5TXtoU"
      }
    },
    {
      "cell_type": "code",
      "source": [
        "from sklearn.neighbors import KNeighborsClassifier\n",
        "kn= KNeighborsClassifier()"
      ],
      "metadata": {
        "id": "WSUcQS9eWzKP"
      },
      "execution_count": 81,
      "outputs": []
    },
    {
      "cell_type": "markdown",
      "source": [
        "## **데이터의 처음 35개를 훈련 세트, 나머지 14개를 테스트 세트로 사용**"
      ],
      "metadata": {
        "id": "s36Qw6YzY03R"
      }
    },
    {
      "cell_type": "markdown",
      "source": [
        "인덱스 : 배열의 위치\n",
        "\n",
        "슬라이싱 : 콜론(:)을 가운데 두고 인덱스의 범위를 지정하여 여러 개의 원소 선택\n",
        "\n",
        " 마지막 인덱스의 원소는 포함되지 않는다 [ 시작 : 마지막 +1 ]\n",
        "\n",
        "\n",
        " 처음부터 시작 [ : n ] 마지막까지 [ n : ]  생략 가능\n",
        "\n"
      ],
      "metadata": {
        "id": "Kl-jLcY9Y4T-"
      }
    },
    {
      "cell_type": "code",
      "source": [
        "# 훈련 세트 입력값  0~34  (처음 35개)\n",
        "train_input = fish_data[ :35]\n",
        "# 훈련 세트 타깃값  0~34\n",
        "train_target = fish_target[ :35]\n",
        "\n",
        "# 테스트 세트 입력값  35~마지막  (나머지 14개)\n",
        "test_input = fish_data[35: ]\n",
        "# 테스트 세트 타깃값  35~마지막\n",
        "test_target = fish_target[35: ]"
      ],
      "metadata": {
        "id": "q3xCKBOcZFac"
      },
      "execution_count": 82,
      "outputs": []
    },
    {
      "cell_type": "markdown",
      "source": [
        "인덱스 0~34까지 처음 35개 샘플 - 훈련 세트\n",
        "\n",
        "인덱스 35~78까지 나머지 14개 샘플 - 테스트 세트"
      ],
      "metadata": {
        "id": "BwGApxeWaT2t"
      }
    },
    {
      "cell_type": "markdown",
      "source": [
        "## **훈련 세트로 fit( ) 메서드 호출 모델 훈련**\n",
        "\n",
        "## **테스트 세트로 score( ) 메서드 호출 모델 평가**"
      ],
      "metadata": {
        "id": "351s0Y6oaWbz"
      }
    },
    {
      "cell_type": "code",
      "source": [
        "kn = kn.fit(train_input, train_target)\n",
        "kn.score(test_input, test_target)"
      ],
      "metadata": {
        "colab": {
          "base_uri": "https://localhost:8080/"
        },
        "id": "OFjqtrHTaWNa",
        "outputId": "2e4b7cbb-fcdf-425e-89da-cb404e1e4e81"
      },
      "execution_count": 83,
      "outputs": [
        {
          "output_type": "execute_result",
          "data": {
            "text/plain": [
              "0.0"
            ]
          },
          "metadata": {},
          "execution_count": 83
        }
      ]
    },
    {
      "cell_type": "markdown",
      "source": [
        "fish_data에는 처음부터 순서대로 35개의 도미와 14개의 빙어 샘플이 들어가 있음\n",
        "\n",
        "따라서 마지막 14개를 테스트 세트로 만들면 빙어 데이터만 들어가게 됨\n",
        "\n",
        "\n",
        "\n",
        "훈련 세트에 도미만 있어서 테스트 세트가 무엇이든 무조건 도미로 분류\n",
        "\n",
        "그런데 테스트 세트는 빙어만 있음\n",
        "\n",
        "=> 정확도 0 % "
      ],
      "metadata": {
        "id": "2NS7Z77pdalv"
      }
    },
    {
      "cell_type": "markdown",
      "source": [
        "# **샘플링 편향**\n",
        "\n",
        "훈련 세트와 테스트 세트에 샘플이 골고루 섞여 있지 않으면 샘플링이 한쪽으로 치우친 경우\n",
        "\n",
        "-> 훈련 세트, 테스트 세트 나누기 전에 데이터를 섞든지, 골고루 샘플을 뽑아서 훈련 세트, 테스트 세트 만들어야 함\n",
        "\n"
      ],
      "metadata": {
        "id": "f7p6TR1ydb3G"
      }
    },
    {
      "cell_type": "markdown",
      "source": [
        "## **넘파이 numpy**\n",
        "고차원의 배열을 손쉽게 만들고 조작할 수 있는 간편한 도구 <- 제공 데이터를 섞거나 뽑는 것을 간편히 처리가능\n",
        "\n",
        "1차원 배열 - 선,  2차원 배열 - 면,  3차원 배열 - 공간\n",
        "\n",
        "보통의 xy 좌표계와 달리 시작점이 왼쪽 위에서부터 시작"
      ],
      "metadata": {
        "id": "jY_s_1gldkVj"
      }
    },
    {
      "cell_type": "markdown",
      "source": [
        "## **넘파이 라이브러리 임포트**"
      ],
      "metadata": {
        "id": "aVWl9ayhdnYq"
      }
    },
    {
      "cell_type": "code",
      "source": [
        "import numpy as np"
      ],
      "metadata": {
        "id": "pC9w_BphbFs8"
      },
      "execution_count": 84,
      "outputs": []
    },
    {
      "cell_type": "markdown",
      "source": [
        "## **파이썬 리스트를 넘파이 배열로 바꾸기**\n",
        "\n",
        "* 넘파이 array( ) 함수 : 파이썬 리스트를 넘파이 배열로 바꾸기"
      ],
      "metadata": {
        "id": "yhzqpcane_OQ"
      }
    },
    {
      "cell_type": "code",
      "source": [
        "input_arr = np.array(fish_data)\n",
        "target_arr = np.array(fish_target)"
      ],
      "metadata": {
        "id": "CwRAwIJdds6L"
      },
      "execution_count": 85,
      "outputs": []
    },
    {
      "cell_type": "code",
      "source": [
        "print(input_arr)"
      ],
      "metadata": {
        "colab": {
          "base_uri": "https://localhost:8080/"
        },
        "id": "J-sLYNAnPIol",
        "outputId": "2905454c-6249-44b5-8d5e-7d98a7483225"
      },
      "execution_count": 86,
      "outputs": [
        {
          "output_type": "stream",
          "name": "stdout",
          "text": [
            "[[  25.4  242. ]\n",
            " [  26.3  290. ]\n",
            " [  26.5  340. ]\n",
            " [  29.   363. ]\n",
            " [  29.   430. ]\n",
            " [  29.7  450. ]\n",
            " [  29.7  500. ]\n",
            " [  30.   390. ]\n",
            " [  30.   450. ]\n",
            " [  30.7  500. ]\n",
            " [  31.   475. ]\n",
            " [  31.   500. ]\n",
            " [  31.5  500. ]\n",
            " [  32.   340. ]\n",
            " [  32.   600. ]\n",
            " [  32.   600. ]\n",
            " [  33.   700. ]\n",
            " [  33.   700. ]\n",
            " [  33.5  610. ]\n",
            " [  33.5  650. ]\n",
            " [  34.   575. ]\n",
            " [  34.   685. ]\n",
            " [  34.5  620. ]\n",
            " [  35.   680. ]\n",
            " [  35.   700. ]\n",
            " [  35.   725. ]\n",
            " [  35.   720. ]\n",
            " [  36.   714. ]\n",
            " [  36.   850. ]\n",
            " [  37.  1000. ]\n",
            " [  38.5  920. ]\n",
            " [  38.5  955. ]\n",
            " [  39.5  925. ]\n",
            " [  41.   975. ]\n",
            " [  41.   950. ]\n",
            " [   9.8    6.7]\n",
            " [  10.5    7.5]\n",
            " [  10.6    7. ]\n",
            " [  11.     9.7]\n",
            " [  11.2    9.8]\n",
            " [  11.3    8.7]\n",
            " [  11.8   10. ]\n",
            " [  11.8    9.9]\n",
            " [  12.     9.8]\n",
            " [  12.2   12.2]\n",
            " [  12.4   13.4]\n",
            " [  13.    12.2]\n",
            " [  14.3   19.7]\n",
            " [  15.    19.9]]\n"
          ]
        }
      ]
    },
    {
      "cell_type": "markdown",
      "source": [
        "## **배열 크기 확인**\n",
        "\n",
        "* shape 배열의 크기 알려줌 (샘플 수, 특성 수)"
      ],
      "metadata": {
        "id": "8_4tHQOSfdlV"
      }
    },
    {
      "cell_type": "code",
      "source": [
        "print(input_arr.shape)"
      ],
      "metadata": {
        "colab": {
          "base_uri": "https://localhost:8080/"
        },
        "id": "brFR_LJ_fH1u",
        "outputId": "a1c7bd32-d4b3-4365-aa97-18aa7bf7bad3"
      },
      "execution_count": 87,
      "outputs": [
        {
          "output_type": "stream",
          "name": "stdout",
          "text": [
            "(49, 2)\n"
          ]
        }
      ]
    },
    {
      "cell_type": "markdown",
      "source": [
        ""
      ],
      "metadata": {
        "id": "5vkPXJLlhf1N"
      }
    },
    {
      "cell_type": "markdown",
      "source": [
        "(49, 2) => 샘플 49개, 특성 2개"
      ],
      "metadata": {
        "id": "GVWLvwtUgvH7"
      }
    },
    {
      "cell_type": "markdown",
      "source": [
        "## **배열에서 랜덤하게 샘플 선택해 훈련 세트와 테스트 세트 만들기**\n",
        "주의 ) input_arr와 target_arr에서 같은 위치는 함께 선택되어야 함\n",
        "\n",
        " -> 인덱스를 섞은 다음 input_arr, target_arr 샘플 선택 -> 무작위\n",
        "\n",
        "\n",
        "\n",
        "* 넘파이 arange( ) 함수 : 시작에서 끝까지 step 크기만큼 일정하게 떨어진 숫자들을 array 형태로 반환\n",
        "\n",
        " np.arange(시작점(생략 시 0), 끝점(미포함), step size(생략 시 1)) \n",
        "* shuffle( ) 함수 : 주어진 배열을 무작위로 섞음\n"
      ],
      "metadata": {
        "id": "WN0AcnvngzA3"
      }
    },
    {
      "cell_type": "code",
      "source": [
        "np.random.seed(42)  # 일정한 결과 얻으려면 초기에 랜덤시드 지정\n",
        "index = np.arange(49)\n",
        "np.random.shuffle(index)\n",
        "print(index)"
      ],
      "metadata": {
        "colab": {
          "base_uri": "https://localhost:8080/"
        },
        "id": "oUnmEQCGgysX",
        "outputId": "72513b40-fb47-4db4-aed1-7b8b06d466e9"
      },
      "execution_count": 88,
      "outputs": [
        {
          "output_type": "stream",
          "name": "stdout",
          "text": [
            "[13 45 47 44 17 27 26 25 31 19 12  4 34  8  3  6 40 41 46 15  9 16 24 33\n",
            " 30  0 43 32  5 29 11 36  1 21  2 37 35 23 39 10 22 18 48 20  7 42 14 28\n",
            " 38]\n"
          ]
        }
      ]
    },
    {
      "cell_type": "markdown",
      "source": [
        "### **앞서 만든 index 배열의 처음 35개를 input_arr와 target_arr 전달하여 랜덤하게 35개 샘플을 훈련 세트로 만들기**"
      ],
      "metadata": {
        "id": "P6tH3I7AlAlo"
      }
    },
    {
      "cell_type": "code",
      "source": [
        "train_input = input_arr[index[:35]]\n",
        "train_target = target_arr[index[:35]]"
      ],
      "metadata": {
        "id": "Y8-BPc78fOlZ"
      },
      "execution_count": 89,
      "outputs": []
    },
    {
      "cell_type": "markdown",
      "source": [
        "## **나머지 14개를 테스트 세트로 만들기**"
      ],
      "metadata": {
        "id": "Nzwuo3o5lbnP"
      }
    },
    {
      "cell_type": "code",
      "source": [
        "train_input = input_arr[index[:35]]\n",
        "train_target = target_arr[index[:35]]"
      ],
      "metadata": {
        "id": "He8lapGilQne"
      },
      "execution_count": 90,
      "outputs": []
    },
    {
      "cell_type": "code",
      "source": [
        "print(input_arr[13], train_input[0])"
      ],
      "metadata": {
        "colab": {
          "base_uri": "https://localhost:8080/"
        },
        "id": "IXxJB0gsPQU7",
        "outputId": "d242f0d4-3671-49b1-d005-7effde7ae7e9"
      },
      "execution_count": 91,
      "outputs": [
        {
          "output_type": "stream",
          "name": "stdout",
          "text": [
            "[ 32. 340.] [ 32. 340.]\n"
          ]
        }
      ]
    },
    {
      "cell_type": "markdown",
      "source": [
        "## **산점도 확인**"
      ],
      "metadata": {
        "id": "oFS-jLAzl-9t"
      }
    },
    {
      "cell_type": "code",
      "source": [
        "import matplotlib.pyplot as plt\n",
        "plt.scatter(train_input[:,0], train_input[:,1])\n",
        "plt.scatter(test_input[:,0], test_input[:,1])\n",
        "plt.xlabel('length')\n",
        "plt.ylabel('weight')\n",
        "plt.show()"
      ],
      "metadata": {
        "colab": {
          "base_uri": "https://localhost:8080/",
          "height": 496
        },
        "id": "6oZBqfkZltJQ",
        "outputId": "1b3b8718-4115-469c-c5a8-3e1f10cba98a"
      },
      "execution_count": 92,
      "outputs": [
        {
          "output_type": "error",
          "ename": "TypeError",
          "evalue": "ignored",
          "traceback": [
            "\u001b[0;31m---------------------------------------------------------------------------\u001b[0m",
            "\u001b[0;31mTypeError\u001b[0m                                 Traceback (most recent call last)",
            "\u001b[0;32m<ipython-input-92-087f39ffceed>\u001b[0m in \u001b[0;36m<module>\u001b[0;34m()\u001b[0m\n\u001b[1;32m      1\u001b[0m \u001b[0;32mimport\u001b[0m \u001b[0mmatplotlib\u001b[0m\u001b[0;34m.\u001b[0m\u001b[0mpyplot\u001b[0m \u001b[0;32mas\u001b[0m \u001b[0mplt\u001b[0m\u001b[0;34m\u001b[0m\u001b[0;34m\u001b[0m\u001b[0m\n\u001b[1;32m      2\u001b[0m \u001b[0mplt\u001b[0m\u001b[0;34m.\u001b[0m\u001b[0mscatter\u001b[0m\u001b[0;34m(\u001b[0m\u001b[0mtrain_input\u001b[0m\u001b[0;34m[\u001b[0m\u001b[0;34m:\u001b[0m\u001b[0;34m,\u001b[0m\u001b[0;36m0\u001b[0m\u001b[0;34m]\u001b[0m\u001b[0;34m,\u001b[0m \u001b[0mtrain_input\u001b[0m\u001b[0;34m[\u001b[0m\u001b[0;34m:\u001b[0m\u001b[0;34m,\u001b[0m\u001b[0;36m1\u001b[0m\u001b[0;34m]\u001b[0m\u001b[0;34m)\u001b[0m\u001b[0;34m\u001b[0m\u001b[0;34m\u001b[0m\u001b[0m\n\u001b[0;32m----> 3\u001b[0;31m \u001b[0mplt\u001b[0m\u001b[0;34m.\u001b[0m\u001b[0mscatter\u001b[0m\u001b[0;34m(\u001b[0m\u001b[0mtest_input\u001b[0m\u001b[0;34m[\u001b[0m\u001b[0;34m:\u001b[0m\u001b[0;34m,\u001b[0m\u001b[0;36m0\u001b[0m\u001b[0;34m]\u001b[0m\u001b[0;34m,\u001b[0m \u001b[0mtest_input\u001b[0m\u001b[0;34m[\u001b[0m\u001b[0;34m:\u001b[0m\u001b[0;34m,\u001b[0m\u001b[0;36m1\u001b[0m\u001b[0;34m]\u001b[0m\u001b[0;34m)\u001b[0m\u001b[0;34m\u001b[0m\u001b[0;34m\u001b[0m\u001b[0m\n\u001b[0m\u001b[1;32m      4\u001b[0m \u001b[0mplt\u001b[0m\u001b[0;34m.\u001b[0m\u001b[0mxlabel\u001b[0m\u001b[0;34m(\u001b[0m\u001b[0;34m'length'\u001b[0m\u001b[0;34m)\u001b[0m\u001b[0;34m\u001b[0m\u001b[0;34m\u001b[0m\u001b[0m\n\u001b[1;32m      5\u001b[0m \u001b[0mplt\u001b[0m\u001b[0;34m.\u001b[0m\u001b[0mylabel\u001b[0m\u001b[0;34m(\u001b[0m\u001b[0;34m'weight'\u001b[0m\u001b[0;34m)\u001b[0m\u001b[0;34m\u001b[0m\u001b[0;34m\u001b[0m\u001b[0m\n",
            "\u001b[0;31mTypeError\u001b[0m: list indices must be integers or slices, not tuple"
          ]
        },
        {
          "output_type": "display_data",
          "data": {
            "text/plain": [
              "<Figure size 432x288 with 1 Axes>"
            ],
            "image/png": "[encoded data removed]"
          },
          "metadata": {
            "needs_background": "light"
          }
        }
      ]
    },
    {
      "cell_type": "markdown",
      "source": [
        "## **K-최근접 이웃 모델 훈련**"
      ],
      "metadata": {
        "id": "6vNvyueDnQVk"
      }
    },
    {
      "cell_type": "code",
      "source": [
        "kn = kn.fit(train_input, train_target)"
      ],
      "metadata": {
        "id": "RTeeL34TmY5g"
      },
      "execution_count": null,
      "outputs": []
    },
    {
      "cell_type": "code",
      "source": [
        "kn.score(test_input, test_target)"
      ],
      "metadata": {
        "id": "xW1Ym6JePfBl"
      },
      "execution_count": null,
      "outputs": []
    },
    {
      "cell_type": "markdown",
      "source": [
        "## **모델 테스트**"
      ],
      "metadata": {
        "id": "oG5tTTaAnhRm"
      }
    },
    {
      "cell_type": "code",
      "source": [
        "kn.score(test_input, test_target)"
      ],
      "metadata": {
        "id": "i5fmNJosnWdT"
      },
      "execution_count": null,
      "outputs": []
    },
    {
      "cell_type": "code",
      "source": [
        "kn.predict(test_input)"
      ],
      "metadata": {
        "id": "xlfuEz0VnpJq"
      },
      "execution_count": null,
      "outputs": []
    },
    {
      "cell_type": "code",
      "source": [
        "test_target"
      ],
      "metadata": {
        "id": "wobVrsPVn-zA"
      },
      "execution_count": null,
      "outputs": []
    },
    {
      "cell_type": "markdown",
      "source": [
        "\n",
        "\n",
        "---\n",
        "\n"
      ],
      "metadata": {
        "id": "q6D22fBWzCRv"
      }
    },
    {
      "cell_type": "markdown",
      "source": [
        "# **02-2. 데이터 전처리**"
      ],
      "metadata": {
        "id": "TfzMTUfNzDlC"
      }
    },
    {
      "cell_type": "markdown",
      "source": [
        "실전에 투입 > 길이가 25cm, 무게가 150g이면 도미인데 빙어라고 예측 --> 뭐가 잘못된 걸까?\n",
        "\n",
        "넘파이로 데이터 준비하기"
      ],
      "metadata": {
        "id": "_Y48DDOT0cV1"
      }
    },
    {
      "cell_type": "code",
      "source": [
        "fish_length = [25.4, 26.3, 26.5, 29.0, 29.0, 29.7, 29.7, 30.0, 30.0, 30.7, 31.0, 31.0, \n",
        "                31.5, 32.0, 32.0, 32.0, 33.0, 33.0, 33.5, 33.5, 34.0, 34.0, 34.5, 35.0, \n",
        "                35.0, 35.0, 35.0, 36.0, 36.0, 37.0, 38.5, 38.5, 39.5, 41.0, 41.0, 9.8, \n",
        "                10.5, 10.6, 11.0, 11.2, 11.3, 11.8, 11.8, 12.0, 12.2, 12.4, 13.0, 14.3, 15.0]\n",
        "fish_weight = [242.0, 290.0, 340.0, 363.0, 430.0, 450.0, 500.0, 390.0, 450.0, 500.0, 475.0, 500.0, \n",
        "                500.0, 340.0, 600.0, 600.0, 700.0, 700.0, 610.0, 650.0, 575.0, 685.0, 620.0, 680.0, \n",
        "                700.0, 725.0, 720.0, 714.0, 850.0, 1000.0, 920.0, 955.0, 925.0, 975.0, 950.0, 6.7, \n",
        "                7.5, 7.0, 9.7, 9.8, 8.7, 10.0, 9.9, 9.8, 12.2, 13.4, 12.2, 19.7, 19.9]"
      ],
      "metadata": {
        "id": "HtXRiXfpoDKO"
      },
      "execution_count": 93,
      "outputs": []
    },
    {
      "cell_type": "markdown",
      "source": [
        "for문, zip() 이용 파이썬 리스트를 순회하면서 원소를 하나씩 꺼내\n",
        "\n",
        "생선 하나의 길이와 무게를 리스트 안의 리스트로 직접 구성\n",
        "\n",
        "-> 넘파이 통해 간단하게 가능!"
      ],
      "metadata": {
        "id": "RE5luuUJ0whC"
      }
    },
    {
      "cell_type": "markdown",
      "source": [
        "## **넘파이 라이브러리 임포트**"
      ],
      "metadata": {
        "id": "giDazuuV1-dc"
      }
    },
    {
      "cell_type": "code",
      "source": [
        "import numpy as np"
      ],
      "metadata": {
        "id": "Fbr8f6JK0Z27"
      },
      "execution_count": 94,
      "outputs": []
    },
    {
      "cell_type": "markdown",
      "source": [
        "## **전달받은 리스트 일렬로 세운 다음 차례대로 연결**\n",
        "\n",
        "* column_stack( ) : 전달받은 리스트 일렬로 세운 다음 차례대로 나란히 연결\n",
        "\n",
        " 연결할 리스트는 파이썬 튜플로 전달\n",
        "\n",
        "* 파이썬 튜플은 리스트와 매우 비슷. 리스트처럼 원소에 순서가 있지만 한 번 만들어진 튜플은 수정할 수 없다.\n",
        "\n",
        "튜플을 사용하면 함수로 전달한 값이 바뀌지 않는다 ~> 매개변수 값으로 많이 사용"
      ],
      "metadata": {
        "id": "jTs5qeob2ENF"
      }
    },
    {
      "cell_type": "code",
      "source": [
        "fish_data = np.column_stack((fish_length, fish_weight))"
      ],
      "metadata": {
        "id": "wUYSlJYA2NiM"
      },
      "execution_count": 95,
      "outputs": []
    },
    {
      "cell_type": "code",
      "source": [
        "print(fish_data[:5])"
      ],
      "metadata": {
        "colab": {
          "base_uri": "https://localhost:8080/"
        },
        "id": "4zE3-UYI2yeg",
        "outputId": "1d283bdb-13e2-42ec-9bd2-34a393d0b276"
      },
      "execution_count": 96,
      "outputs": [
        {
          "output_type": "stream",
          "name": "stdout",
          "text": [
            "[[ 25.4 242. ]\n",
            " [ 26.3 290. ]\n",
            " [ 26.5 340. ]\n",
            " [ 29.  363. ]\n",
            " [ 29.  430. ]]\n"
          ]
        }
      ]
    },
    {
      "cell_type": "markdown",
      "source": [
        "넘파이 배열을 출력하면 리스트처럼 한 줄로 길게 출력 x\n",
        "\n",
        "행과 열을 맞추어 가지런히 정리된 모습으로 보여줌"
      ],
      "metadata": {
        "id": "HMm9Emxk40kO"
      }
    },
    {
      "cell_type": "markdown",
      "source": [
        "## **타깃 데이터 만들기**\n",
        "\n",
        "원소가 하나인 리스트 [1], [0]을 여러 번 곱해서 타깃 데이터 만듦\n",
        "\n",
        "-> 넘파이 np.ones( ), np.zeros( ) 함수 이용!\n",
        "\n",
        "\n",
        "\n",
        "* np.ones( ), np.zeros( ) : 각각 원하는 개수의 1과 0을 채운 배열을 만들어줌\n",
        "\n",
        "예) print(np.ones(5))  => [1,1,1,1,1]"
      ],
      "metadata": {
        "id": "IkkE1GIe45Ph"
      }
    },
    {
      "cell_type": "markdown",
      "source": [
        "### **두 배열을 그대로 연결**\n",
        "\n",
        "np.ones(), np.zeros() 함수 사용해 1이 35개인 배열과 0이 14개인 배열 만들고\n",
        "\n",
        "np.concatenate() 함수 사용해 배열 연결\n",
        "\n",
        "* np.concatenate( ) : 첫 번째 차원을 따라 배열을 연결\n",
        " 연결한 리스트나 배열을 튜플로 전달해야 함 "
      ],
      "metadata": {
        "id": "InFDQDJd9FuI"
      }
    },
    {
      "cell_type": "code",
      "source": [
        "fish_target = np.concatenate((np.ones(35), np.zeros(14)))"
      ],
      "metadata": {
        "id": "spzQf5mC4wWc"
      },
      "execution_count": 97,
      "outputs": []
    },
    {
      "cell_type": "code",
      "source": [
        "print(fish_target)"
      ],
      "metadata": {
        "colab": {
          "base_uri": "https://localhost:8080/"
        },
        "id": "eiORprEpPqyD",
        "outputId": "6c3355b4-6e5e-4aa2-d2c6-b25fd2d32365"
      },
      "execution_count": 98,
      "outputs": [
        {
          "output_type": "stream",
          "name": "stdout",
          "text": [
            "[1. 1. 1. 1. 1. 1. 1. 1. 1. 1. 1. 1. 1. 1. 1. 1. 1. 1. 1. 1. 1. 1. 1. 1.\n",
            " 1. 1. 1. 1. 1. 1. 1. 1. 1. 1. 1. 0. 0. 0. 0. 0. 0. 0. 0. 0. 0. 0. 0. 0.\n",
            " 0.]\n"
          ]
        }
      ]
    },
    {
      "cell_type": "markdown",
      "source": [
        "# **사이킷런으로 훈련세트와 테스트 세트 나누기**\n",
        "넘파이 배열의 인덱스를 직접 섞어 훈련 세트와 데이터 세트 나눔 ... 번거로움\n",
        "\n",
        "-> 사이킷런 train_test_split( ) 함수 이용!\n",
        "\n",
        "\n",
        "\n",
        "* train_test_split( ) : 전달되는 리스트나 배열을 비율에 맞게 훈련 세트와 테스트 세트로 나누어줌\n",
        "\n",
        "     나누기 전에 알아서 섞음\n",
        "     사이킷런 model_selection 모듈 아래 있음\n",
        "\n"
      ],
      "metadata": {
        "id": "gJBCSbKQ-agU"
      }
    },
    {
      "cell_type": "markdown",
      "source": [
        "## **train_test_split 함수 임포트**"
      ],
      "metadata": {
        "id": "7Xwc8IsrFYsc"
      }
    },
    {
      "cell_type": "code",
      "source": [
        "from sklearn.model_selection import train_test_split"
      ],
      "metadata": {
        "id": "6D7_cTxL8ykA"
      },
      "execution_count": 99,
      "outputs": []
    },
    {
      "cell_type": "markdown",
      "source": [
        "사용법 : 나누고 싶은 리스트나 배열을 원하는 만큼 전달\n",
        "\n",
        "train_test_split() 함수에는 자체적으로 랜덤 시드를 지정할 수 있는 random_state 매개변수 있음\n",
        "\n"
      ],
      "metadata": {
        "id": "JxCLnqBn_ezP"
      }
    },
    {
      "cell_type": "markdown",
      "source": [
        "## **fish_data와 fish_target 나누기**"
      ],
      "metadata": {
        "id": "FIFDZXAdFZvX"
      }
    },
    {
      "cell_type": "code",
      "source": [
        "train_input, test_input, train_target, test_target = train_test_split(fish_data, fish_target, random_state=42)"
      ],
      "metadata": {
        "id": "OfY025M8_elL"
      },
      "execution_count": 100,
      "outputs": []
    },
    {
      "cell_type": "markdown",
      "source": [
        "fish_data와 fish_target 2개의 배열을 전달 -> 2개씩 나뉘어 총 4개의 배열 반환\n",
        "\n",
        "처음 2개는 입력데이터(train_input, test_input) 나머지 2개는 타깃데이터(train_target, test_target)\n",
        "\n",
        "\n",
        "\n",
        "이 함수는 기본적으로 25%를 테스트 세트로 떼어냄\n",
        "\n",
        "* shape( ) : 넘파이 배열, 입력 데이터의 크기 출력"
      ],
      "metadata": {
        "id": "V8RlPD_xAztW"
      }
    },
    {
      "cell_type": "markdown",
      "source": [
        "## **입력 데이터 크기 출력**"
      ],
      "metadata": {
        "id": "KuAKCGPIFbjE"
      }
    },
    {
      "cell_type": "code",
      "source": [
        "print(train_input.shape, test_input.shape)"
      ],
      "metadata": {
        "colab": {
          "base_uri": "https://localhost:8080/"
        },
        "id": "L5RT8hYfA0UX",
        "outputId": "6a3d972e-e5d0-4cad-b7e8-2618a803c20b"
      },
      "execution_count": 101,
      "outputs": [
        {
          "output_type": "stream",
          "name": "stdout",
          "text": [
            "(36, 2) (13, 2)\n"
          ]
        }
      ]
    },
    {
      "cell_type": "markdown",
      "source": [
        "=> (36, 2) (13, 2)\n",
        "입력데이터는 2개의 열이 있는 2차원 배열﻿\n",
        "\n"
      ],
      "metadata": {
        "id": "_MmuIp50DPlT"
      }
    },
    {
      "cell_type": "markdown",
      "source": [
        "## **타깃 데이터 크기 출력**"
      ],
      "metadata": {
        "id": "nxikjmwxFfji"
      }
    },
    {
      "cell_type": "code",
      "source": [
        "print(train_target.shape, test_target.shape)"
      ],
      "metadata": {
        "colab": {
          "base_uri": "https://localhost:8080/"
        },
        "id": "1ncAjwo1-juG",
        "outputId": "d7709c24-b4ba-4c49-f740-980b790d7d72"
      },
      "execution_count": 102,
      "outputs": [
        {
          "output_type": "stream",
          "name": "stdout",
          "text": [
            "(36,) (13,)\n"
          ]
        }
      ]
    },
    {
      "cell_type": "markdown",
      "source": [
        "=> (36,) (13,)\n",
        "\n",
        "타깃 데이터는 1차원 배열"
      ],
      "metadata": {
        "id": "cn9ZYunPDRmW"
      }
    },
    {
      "cell_type": "markdown",
      "source": [
        "훈련 데이터와 테스트 데이터를 각가 36개와 13개로 나눔"
      ],
      "metadata": {
        "id": "581yIeKbDUB5"
      }
    },
    {
      "cell_type": "markdown",
      "source": [
        "## **데이터 출력**"
      ],
      "metadata": {
        "id": "nv4crQbYEnS9"
      }
    },
    {
      "cell_type": "code",
      "source": [
        "print(test_target)"
      ],
      "metadata": {
        "colab": {
          "base_uri": "https://localhost:8080/"
        },
        "id": "gI0IgWTgDRSg",
        "outputId": "6bc23057-ecae-4c33-e340-51d2de13db6c"
      },
      "execution_count": 103,
      "outputs": [
        {
          "output_type": "stream",
          "name": "stdout",
          "text": [
            "[1. 0. 0. 0. 1. 1. 1. 1. 1. 1. 1. 1. 1.]\n"
          ]
        }
      ]
    },
    {
      "cell_type": "markdown",
      "source": [
        "=> [1. 0. 0. 0. 1. 1. 1. 1. 1. 1. 1. 1. 1.]\n",
        "\n",
        "13 세트 중에서 10개가 도미(1), 3개가 빙어(3)\n",
        "\n",
        "원래 도미와 빙어 개수 35개와 14 -> 2.5:1 비율\n",
        "\n",
        "하지만 이 테스트 세트의 비율은 3.3:1\n",
        "\n",
        "-> 샘플링 편향"
      ],
      "metadata": {
        "id": "-1sh3Us8Eovf"
      }
    },
    {
      "cell_type": "markdown",
      "source": [
        "## **클래스 비율에 맞게 데이터 나누기**\n",
        "\n",
        "훈련 세트와 테스트 세트에 샘플의 클래스 비율이 일정하지 않다면 모델이 일부 샘플을 올바르게 학습할 수 없음\n",
        "\n",
        "-> train_test_split( ) 함수의 stratify 매개변수에 타깃 데이터를 전달하면 클래스 비율에 맞게 데이터를 나눔\n",
        "\n"
      ],
      "metadata": {
        "id": "bfR9ublTEqOd"
      }
    },
    {
      "cell_type": "code",
      "source": [
        "train_input, test_input, train_target, test_target = train_test_split(fish_data, fish_target, stratify=fish_target, random_state=42)"
      ],
      "metadata": {
        "id": "huJAfNVSBLLs"
      },
      "execution_count": 104,
      "outputs": []
    },
    {
      "cell_type": "code",
      "source": [
        "print(test_target)"
      ],
      "metadata": {
        "colab": {
          "base_uri": "https://localhost:8080/"
        },
        "id": "qc9G4uNEA9Ls",
        "outputId": "868baa46-e320-43d3-8dc5-b99a347a16bb"
      },
      "execution_count": 105,
      "outputs": [
        {
          "output_type": "stream",
          "name": "stdout",
          "text": [
            "[0. 0. 1. 0. 1. 0. 1. 1. 1. 1. 1. 1. 1.]\n"
          ]
        }
      ]
    },
    {
      "cell_type": "markdown",
      "source": [
        "\n",
        "빙어가 하나 늘어 테스트 세트의 비율이 2.25:1이 됨\n",
        "\n",
        "\n",
        "\n",
        "데이터 준비 완료! 문제 확인!﻿\n",
        "\n"
      ],
      "metadata": {
        "id": "g38wIa3dFQpM"
      }
    },
    {
      "cell_type": "markdown",
      "source": [
        "# **수상한 도미 한 마리**\n",
        "## **K-최근접 이웃 훈련**\n",
        "\n",
        "앞서 준비한 데이터로 k-최근접 이웃 훈련"
      ],
      "metadata": {
        "id": "7-bOrWhIFSFn"
      }
    },
    {
      "cell_type": "code",
      "source": [
        "from sklearn.neighbors import KNeighborsClassifier\n",
        "kn = KNeighborsClassifier()\n",
        "kn.fit(train_input, train_target)\n",
        "kn.score(test_input, test_target)"
      ],
      "metadata": {
        "colab": {
          "base_uri": "https://localhost:8080/"
        },
        "id": "wHzeU3geE2cj",
        "outputId": "d17a7a8a-4368-4e8d-fdbf-57d23133dc72"
      },
      "execution_count": 106,
      "outputs": [
        {
          "output_type": "execute_result",
          "data": {
            "text/plain": [
              "1.0"
            ]
          },
          "metadata": {},
          "execution_count": 106
        }
      ]
    },
    {
      "cell_type": "markdown",
      "source": [
        "## **모델에 새 도미 데이터 넣고 결과 확인**\n",
        "\n",
        "길이가 25cm, 무게가 150g 데이터"
      ],
      "metadata": {
        "id": "aWrpDawWHrtj"
      }
    },
    {
      "cell_type": "code",
      "source": [
        "print(kn.predict([[25,150]]))"
      ],
      "metadata": {
        "colab": {
          "base_uri": "https://localhost:8080/"
        },
        "id": "tJlUmQQXEwOF",
        "outputId": "e0a0e96b-26b8-4073-c703-2fbb7074c0dc"
      },
      "execution_count": 107,
      "outputs": [
        {
          "output_type": "stream",
          "name": "stdout",
          "text": [
            "[0.]\n"
          ]
        }
      ]
    },
    {
      "cell_type": "markdown",
      "source": [
        "=> [0]\n",
        "도미 데이터를 넣었는데 빙어로 예측되었다 ??????"
      ],
      "metadata": {
        "id": "QZdY27ENHqx3"
      }
    },
    {
      "cell_type": "markdown",
      "source": [
        "## **산점도 확인**"
      ],
      "metadata": {
        "id": "NAyKcg05Hut8"
      }
    },
    {
      "cell_type": "code",
      "source": [
        "import matplotlib.pyplot as plt \n",
        "plt.scatter(train_input[:,0], train_input[:,1])\n",
        "plt.scatter(25, 150, marker='^')\n",
        "plt.xlabel('length')\n",
        "plt.ylabel('weight')\n",
        "plt.show()"
      ],
      "metadata": {
        "colab": {
          "base_uri": "https://localhost:8080/",
          "height": 279
        },
        "id": "iZ2RMT8wGuue",
        "outputId": "8bc1fb4c-7208-45a8-b844-7e217c22704f"
      },
      "execution_count": 108,
      "outputs": [
        {
          "output_type": "display_data",
          "data": {
            "text/plain": [
              "<Figure size 432x288 with 1 Axes>"
            ],
            "image/png": "[encoded data removed]"
          },
          "metadata": {
            "needs_background": "light"
          }
        }
      ]
    },
    {
      "cell_type": "markdown",
      "source": [
        "train_input[ : , 0]  모든 행, 열 0번\n",
        "\n",
        "train_input[ : , 1]  모든 행, 열 1번"
      ],
      "metadata": {
        "id": "VDuXXvIsLPgO"
      }
    },
    {
      "cell_type": "markdown",
      "source": [
        "k-최근접 이웃은 주변 샘플 중에서 다수인 클래스를 예측으로 사용\n",
        "\n",
        "* kneighbors( ) : KNeighborsClassifier 클래스 - 주어진 샘플에서 가장 가까운 이웃 찾아주는 메서드\n",
        "\n",
        " 이웃까지의 거리와 이웃 샘플의 인덱스 반환\n",
        "\n",
        "* n_neighbors( ) : KNeighborsClassifier 클래스의 이웃 개수, 기본값 5"
      ],
      "metadata": {
        "id": "F9uVDiPkMLBR"
      }
    },
    {
      "cell_type": "code",
      "source": [
        "distances, indexes = kn.kneighbors([[25, 150]])"
      ],
      "metadata": {
        "id": "FKRyOPU3LPL7"
      },
      "execution_count": 109,
      "outputs": []
    },
    {
      "cell_type": "markdown",
      "source": [
        "## **훈련 데이터 중에서 이웃 샘플을 따로 구분해 그리기**\n",
        "\n",
        "indexes 배열 사용"
      ],
      "metadata": {
        "id": "ltjmAC2bNh5F"
      }
    },
    {
      "cell_type": "code",
      "source": [
        "plt.scatter(train_input[:,0], train_input[:,1])\n",
        "plt.scatter(25, 150, marker='^')\n",
        "plt.scatter(train_input[indexes,0], train_input[indexes,1], marker='D')\n",
        "plt.xlabel('length')\n",
        "plt.ylabel('weight')\n",
        "plt.show()"
      ],
      "metadata": {
        "colab": {
          "base_uri": "https://localhost:8080/",
          "height": 279
        },
        "id": "Pe36uxHqIGMF",
        "outputId": "f2cfbfc0-3a72-4f03-deeb-502d97022fb0"
      },
      "execution_count": 110,
      "outputs": [
        {
          "output_type": "display_data",
          "data": {
            "text/plain": [
              "<Figure size 432x288 with 1 Axes>"
            ],
            "image/png": "[encoded data removed]"
          },
          "metadata": {
            "needs_background": "light"
          }
        }
      ]
    },
    {
      "cell_type": "markdown",
      "source": [
        "삼각형 샘플에 가장 가까운 5개의 샘플이 초록 다이아몬드로 표현\n",
        "\n"
      ],
      "metadata": {
        "id": "4O84P0-bOdPT"
      }
    },
    {
      "cell_type": "markdown",
      "source": [
        "## **데이터 확인**\n"
      ],
      "metadata": {
        "id": "gUfqkHvOOdF0"
      }
    },
    {
      "cell_type": "code",
      "source": [
        "print(train_input[indexes])"
      ],
      "metadata": {
        "colab": {
          "base_uri": "https://localhost:8080/"
        },
        "id": "5IGtx7fTN-Sl",
        "outputId": "a44d3d0b-d548-47dc-c2f6-f774d133bc20"
      },
      "execution_count": 111,
      "outputs": [
        {
          "output_type": "stream",
          "name": "stdout",
          "text": [
            "[[[ 25.4 242. ]\n",
            "  [ 15.   19.9]\n",
            "  [ 14.3  19.7]\n",
            "  [ 13.   12.2]\n",
            "  [ 12.2  12.2]]]\n"
          ]
        }
      ]
    },
    {
      "cell_type": "code",
      "source": [
        "print(train_target[indexes])"
      ],
      "metadata": {
        "colab": {
          "base_uri": "https://localhost:8080/"
        },
        "id": "8ijE8ulLOjEv",
        "outputId": "fd4030b7-716f-43e7-d301-8f32d9f55193"
      },
      "execution_count": 112,
      "outputs": [
        {
          "output_type": "stream",
          "name": "stdout",
          "text": [
            "[[1. 0. 0. 0. 0.]]\n"
          ]
        }
      ]
    },
    {
      "cell_type": "code",
      "source": [
        "print(distances)"
      ],
      "metadata": {
        "colab": {
          "base_uri": "https://localhost:8080/"
        },
        "id": "JeShBFH6QvEq",
        "outputId": "15be17af-212b-4731-d88f-5d4516a569c7"
      },
      "execution_count": 113,
      "outputs": [
        {
          "output_type": "stream",
          "name": "stdout",
          "text": [
            "[[ 92.00086956 130.48375378 130.73859415 138.32150953 138.39320793]]\n"
          ]
        }
      ]
    },
    {
      "cell_type": "markdown",
      "source": [
        "[[ 92.00086956 130.48375378 130.73859415 138.32150953 138.39320793]]\n",
        "\n",
        "삼각형 샘플에 가장 가까운 첫 번째 샘플까지의 거리 92﻿\n",
        "\n",
        "그 외 가장 가까운 샘플들은 130, 138\n",
        "\n",
        "\n",
        "\n",
        "그런데 92와 130 그래프 거리 비율이 이상하다?????\n",
        "\n",
        "-> x축은 범위가 좁고(10~40), y축은 범위가 넓음(0~1000)\n",
        "\n",
        "-> y축으로 조금만 멀어져도 거리가 큰 값으로 계산\n",
        "\n",
        "-> x축 범위를 동일하게 0~1000으로 맞추자\n",
        "\n",
        "\n",
        "\n"
      ],
      "metadata": {
        "id": "p1UVSLwJUUyb"
      }
    },
    {
      "cell_type": "markdown",
      "source": [
        "## **x축 범위를 동일하게 맞추자**\n",
        "\n",
        "* xlim( ) : x축 범위 지정\n",
        "\n",
        "* ylim( ) : y축 범위 지정\n",
        "\n"
      ],
      "metadata": {
        "id": "kYPgVB06UeRL"
      }
    },
    {
      "cell_type": "code",
      "source": [
        "plt.scatter(train_input[:,0], train_input[:,1])\n",
        "plt.scatter(25,150, marker='^')\n",
        "plt.scatter(train_input[indexes,0], train_input[indexes,1], marker='D')\n",
        "plt.xlim((0,1000))\n",
        "plt.xlabel('length')\n",
        "plt.ylabel('weight')\n",
        "plt.show()"
      ],
      "metadata": {
        "colab": {
          "base_uri": "https://localhost:8080/",
          "height": 279
        },
        "id": "zxNQ2-hUR-P8",
        "outputId": "1786deba-35cf-4186-eee8-511d50a86903"
      },
      "execution_count": 114,
      "outputs": [
        {
          "output_type": "display_data",
          "data": {
            "text/plain": [
              "<Figure size 432x288 with 1 Axes>"
            ],
            "image/png": "[encoded data removed]"
          },
          "metadata": {
            "needs_background": "light"
          }
        }
      ]
    },
    {
      "cell_type": "markdown",
      "source": [
        "x축과 y축 범위 동일하게 맞추었더니 모든 데이터가 수직으로 늘어선 형태\n",
        "\n",
        "-> 생선 길이(x축)는 큰 영향 미치지 못 함, 생선 무게(y축)만 고려 대상\n",
        "\n",
        "\n",
        "\n",
        "두 특성(길이와 무게)의 값이 놓인 범위가 매우 다름\n",
        "\n",
        "이를 두 특성의 스케일이 다르다고 함\n",
        "\n",
        "\n",
        "\n",
        "데이터를 표현하는 기준이 다르면 알고리즘 올바르게 예측 불가 (특히 거리 기반일 때)\n",
        "\n",
        "제대로 사용하려면 특성값을 일정한 기준으로 맞춰야 함"
      ],
      "metadata": {
        "id": "Ty_qGU4RWs1H"
      }
    },
    {
      "cell_type": "markdown",
      "source": [
        "## **데이터 전처리**\n",
        "특성값을 일정한 기준으로 맞추는 작업\n",
        "\n",
        "\n",
        "\n",
        "### **표준점수**\n",
        "\n",
        "각 특성값이 평균에서 표준편차의 몇 배만큼 떨어져 있는지를 나타냄\n",
        "\n",
        "이를 통해 실제 특성값의 크기와 상관없이 동일한 조건으로 비교 가능\n",
        "\n",
        "\n",
        "\n",
        "* 분산 : 데이터에서 평균을 뺀 값을 모두 제곱한 다음 평균을 낸다\n",
        "\n",
        "* 표준편차 : 분산의 제곱근으로 데이터가 분산된 정도\n",
        "\n",
        "   각 데이터가 원점에서 몇 표준편차만큼 떨어져 있는지 나타냄\n",
        "   \n",
        "계산법 : 편균을 빼고 표준편차 나누기"
      ],
      "metadata": {
        "id": "FW6d-5jGWuy4"
      }
    },
    {
      "cell_type": "code",
      "source": [
        "mean= np.mean(train_input, axis=0)\n",
        "std=np.std(train_input, axis=0)"
      ],
      "metadata": {
        "id": "U6hOS7bwW532"
      },
      "execution_count": 115,
      "outputs": []
    },
    {
      "cell_type": "markdown",
      "source": [
        "np.mean( ) : 평균\n",
        "\n",
        "np.std( ) : 표준편차\n",
        "\n",
        "train_input : 크기의 배열\n",
        "\n",
        "aixs : 중심 축\n",
        "\n",
        " 특성마다 값의 스케일이 다르므로 평균과 표준편차는 각 특성별로 계산해야 함\n",
        "\n",
        " axis=0 : 행을 따라 각 열의 통계 값 계산\n",
        "\n"
      ],
      "metadata": {
        "id": "cfmBMAzHXITy"
      }
    },
    {
      "cell_type": "markdown",
      "source": [
        "## **계산된 평균, 표준편차 출력**"
      ],
      "metadata": {
        "id": "sQ4d1eKOX0jN"
      }
    },
    {
      "cell_type": "code",
      "source": [
        "print(mean, std)"
      ],
      "metadata": {
        "colab": {
          "base_uri": "https://localhost:8080/"
        },
        "id": "feHgmk65WunP",
        "outputId": "dfef2ce8-2956-421f-ecc1-a1d6273446a7"
      },
      "execution_count": 116,
      "outputs": [
        {
          "output_type": "stream",
          "name": "stdout",
          "text": [
            "[ 27.29722222 454.09722222] [  9.98244253 323.29893931]\n"
          ]
        }
      ]
    },
    {
      "cell_type": "markdown",
      "source": [
        "각 특성마다 평균, 표준편차 구해짐"
      ],
      "metadata": {
        "id": "tgRArVuVXzR3"
      }
    },
    {
      "cell_type": "markdown",
      "source": [
        "## **표준점수 반환**\n",
        "\n",
        "원본 데이터에서 평균을 빼고 표준편차로 나누어 표준점수로 반환"
      ],
      "metadata": {
        "id": "D7qA9JfTX2bD"
      }
    },
    {
      "cell_type": "code",
      "source": [
        "train_scaled = (train_input - mean) / std"
      ],
      "metadata": {
        "id": "AtW05AcxUksU"
      },
      "execution_count": 117,
      "outputs": []
    },
    {
      "cell_type": "markdown",
      "source": [
        "train_input의 모든 행에서 mean에 있는 두 평균값을 뺴줌\n",
        "\n",
        "그 다음 std에 있는 두 표준편차를 다시 모든 행에 적용"
      ],
      "metadata": {
        "id": "8GeNwXBWX4Uj"
      }
    },
    {
      "cell_type": "markdown",
      "source": [
        "# **전처리 데이터로 모델 훈련하기**\n",
        "## 표준점수로 변환한 데이터와 샘플 산점도\n",
        "\n",
        "표준점수로 변환한 train_sacled와 20,150 샘플로 산점도﻿"
      ],
      "metadata": {
        "id": "WS0wHC8VYoXB"
      }
    },
    {
      "cell_type": "code",
      "source": [
        "plt.scatter(train_scaled[:,0], train_scaled[:,1])\n",
        "plt.scatter(25, 150, marker='^')\n",
        "plt.xlabel('length')\n",
        "plt.ylabel('weight')\n",
        "plt.show()"
      ],
      "metadata": {
        "colab": {
          "base_uri": "https://localhost:8080/",
          "height": 279
        },
        "id": "xckgKsoYXhvQ",
        "outputId": "30f80bc2-055d-4a31-fd71-a09728bdaf8a"
      },
      "execution_count": 118,
      "outputs": [
        {
          "output_type": "display_data",
          "data": {
            "text/plain": [
              "<Figure size 432x288 with 1 Axes>"
            ],
            "image/png": "[encoded data removed]"
          },
          "metadata": {
            "needs_background": "light"
          }
        }
      ]
    },
    {
      "cell_type": "markdown",
      "source": [
        "오른쪽 맨 꼭대기에 샘플 하나만 덩그러니?????\n",
        "\n",
        "-> 훈련 세트를 mean으로 빼고 std로 나누어 주었기 때문에 값의 범위 달라짐\n"
      ],
      "metadata": {
        "id": "0T31JW_6aDiF"
      }
    },
    {
      "cell_type": "markdown",
      "source": [
        "## **샘플도 훈련 세트 mean, std 이용 변환**\n",
        "샘플 [25,150]을 동일한 비율로 변환\n",
        "\n",
        "중요!!  ★ 훈련 세트의 mean, std를 이용하여 변환해야 함 ★"
      ],
      "metadata": {
        "id": "u7DYPg5PaS8i"
      }
    },
    {
      "cell_type": "code",
      "source": [
        "new = ([25,150] - mean) / std\n",
        "plt.scatter(train_scaled[:,0], train_scaled[:,1])\n",
        "plt.scatter(new[0], new[1], marker='^')\n",
        "plt.xlabel('length')\n",
        "plt.ylabel('weight')\n",
        "plt.show()"
      ],
      "metadata": {
        "colab": {
          "base_uri": "https://localhost:8080/",
          "height": 279
        },
        "id": "HIoS_bKdYxdx",
        "outputId": "f8096b51-0bf8-454b-bb73-ee8c9ec6319c"
      },
      "execution_count": 120,
      "outputs": [
        {
          "output_type": "display_data",
          "data": {
            "text/plain": [
              "<Figure size 432x288 with 1 Axes>"
            ],
            "image/png": "[encoded data removed]"
          },
          "metadata": {
            "needs_background": "light"
          }
        }
      ]
    },
    {
      "cell_type": "markdown",
      "source": [
        "표준편차로 변환하기 전의 산점도와 거의 동일\n",
        "\n",
        "달라진 점  : x, y축의 범위가 -1.5 ~ 1.5 사이로 바뀜\n",
        "\n",
        "훈련데이터의 두 특성이 비슷한 범위를 차지"
      ],
      "metadata": {
        "id": "3nlV6U_jdANb"
      }
    },
    {
      "cell_type": "markdown",
      "source": [
        "## **변환한 데이터셋으로 다시 훈련**"
      ],
      "metadata": {
        "id": "e7jfbJGidA8v"
      }
    },
    {
      "cell_type": "code",
      "source": [
        "kn.fit(train_scaled, train_target)"
      ],
      "metadata": {
        "colab": {
          "base_uri": "https://localhost:8080/"
        },
        "id": "Tdx1RY3IaB6i",
        "outputId": "b0eae7b6-f85e-4a37-db40-6699927c7663"
      },
      "execution_count": 121,
      "outputs": [
        {
          "output_type": "execute_result",
          "data": {
            "text/plain": [
              "KNeighborsClassifier()"
            ]
          },
          "metadata": {},
          "execution_count": 121
        }
      ]
    },
    {
      "cell_type": "markdown",
      "source": [
        "## **테스트 세트도 훈련 세트 기준으로 변환**\n",
        "\n",
        "주의 ) 훈련 후 테스트 세트를 평가할 때는\n",
        "\n",
        "훈련 세트의 기준으로 테스트 세트를 변환해야 같은 스케일로 산점도를 그릴 수 있다"
      ],
      "metadata": {
        "id": "xCqQU-hKdDNM"
      }
    },
    {
      "cell_type": "code",
      "source": [
        "test_scaled = (test_input - mean) / std"
      ],
      "metadata": {
        "id": "jYPcnyyGcNSW"
      },
      "execution_count": 122,
      "outputs": []
    },
    {
      "cell_type": "markdown",
      "source": [
        "## **모델 평가**"
      ],
      "metadata": {
        "id": "tTkcQPSFdG2z"
      }
    },
    {
      "cell_type": "code",
      "source": [
        "kn.score(test_scaled, test_target)"
      ],
      "metadata": {
        "colab": {
          "base_uri": "https://localhost:8080/"
        },
        "id": "sTQJ_v0DcoLX",
        "outputId": "c1825aa5-a3e8-49b3-e4ae-091af150d047"
      },
      "execution_count": 123,
      "outputs": [
        {
          "output_type": "execute_result",
          "data": {
            "text/plain": [
              "1.0"
            ]
          },
          "metadata": {},
          "execution_count": 123
        }
      ]
    },
    {
      "cell_type": "markdown",
      "source": [
        "## **모델 예측**"
      ],
      "metadata": {
        "id": "BF6Td-Yedn1f"
      }
    },
    {
      "cell_type": "code",
      "source": [
        "print(kn.predict([new]))"
      ],
      "metadata": {
        "colab": {
          "base_uri": "https://localhost:8080/"
        },
        "id": "KzxtEruBcp2Y",
        "outputId": "c9753e45-2534-4956-dbf4-bd032d1e6037"
      },
      "execution_count": 124,
      "outputs": [
        {
          "output_type": "stream",
          "name": "stdout",
          "text": [
            "[1.]\n"
          ]
        }
      ]
    },
    {
      "cell_type": "markdown",
      "source": [
        "=> [1.]\n",
        "드디어 도미로 예측"
      ],
      "metadata": {
        "id": "p_RZy60-dnKb"
      }
    },
    {
      "cell_type": "markdown",
      "source": [
        "## **kneighbors( ) 함수로 샘플 k-최근접 이웃 구한 다음 산점도**\n",
        "특성을 표준점수로 바꾸었기 때문에 k-최근접 이웃 알고리즘이 올바르게 거리 측정\n",
        "\n",
        "가장 가까운 이웃에 변화!"
      ],
      "metadata": {
        "id": "nX59_i-3dpP2"
      }
    },
    {
      "cell_type": "code",
      "source": [
        "distances, indexes = kn.kneighbors([new])\n",
        "plt.scatter(train_scaled[:,0], train_scaled[:,1])\n",
        "plt.scatter(new[0], new[1], marker='^')\n",
        "plt.scatter(train_scaled[indexes,0], train_scaled[indexes,1], marker='D')\n",
        "plt.xlabel('length')\n",
        "plt.ylabel('weight')\n",
        "plt.show()"
      ],
      "metadata": {
        "colab": {
          "base_uri": "https://localhost:8080/",
          "height": 279
        },
        "id": "NKpNRz-5cqHg",
        "outputId": "0f1b8315-04f0-40ec-d9a0-62d2b976fc76"
      },
      "execution_count": 125,
      "outputs": [
        {
          "output_type": "display_data",
          "data": {
            "text/plain": [
              "<Figure size 432x288 with 1 Axes>"
            ],
            "image/png": "[encoded data removed]"
          },
          "metadata": {
            "needs_background": "light"
          }
        }
      ]
    },
    {
      "cell_type": "markdown",
      "source": [
        "삼각형 샘플에 가장 가까운 샘플 모두 도미!\n",
        "\n",
        "특성값의 스케일에 민감하지 않고 안정적인 예측 가능!"
      ],
      "metadata": {
        "id": "3ZJ5E_YoeDoz"
      }
    },
    {
      "cell_type": "markdown",
      "source": [
        "\n",
        "\n",
        "---\n",
        "\n"
      ],
      "metadata": {
        "id": "YhsSmR8YeEGD"
      }
    }
  ]
}